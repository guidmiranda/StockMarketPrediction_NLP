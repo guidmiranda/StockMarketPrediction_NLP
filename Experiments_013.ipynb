{
 "cells": [
  {
   "cell_type": "markdown",
   "id": "2b02136d",
   "metadata": {
    "id": "2b02136d"
   },
   "source": [
    "#     **Text Mining**\n",
    "##     **NOVA IMS**\n",
    "####     **Group 013:** Carlota Reis - 20211208 | Guilherme Miranda - 20210420  "
   ]
  },
  {
   "cell_type": "markdown",
   "id": "57ad8946",
   "metadata": {
    "id": "57ad8946"
   },
   "source": [
    "## **Stock Market Prediction**\n",
    "## Predicting stock market movement from news text\n",
    "### This notebook uses the dateset *train.csv* and *text.csv*"
   ]
  },
  {
   "cell_type": "markdown",
   "id": "37ffbb0c",
   "metadata": {
    "id": "37ffbb0c"
   },
   "source": [
    "## **Dataset description**\n",
    "\n",
    "- **ID**: unique identifier of each line/day\n",
    "- **Closing Status**: dependent variable. takes the value “1” when the index closing value rose or stayed the same; and “0” when the closing value decreased\n",
    "- **Headline**: news headlines ranging from \"Headline1\" to \"Headline25\". For each line, you should use these columns’ text (you are not required to use all columns) to predict the “Closing Status"
   ]
  },
  {
   "cell_type": "markdown",
   "id": "dc52cbe3",
   "metadata": {
    "id": "dc52cbe3"
   },
   "source": [
    "## **Packages**"
   ]
  },
  {
   "cell_type": "code",
   "execution_count": 1,
   "id": "c7691f83",
   "metadata": {
    "colab": {
     "base_uri": "https://localhost:8080/"
    },
    "id": "c7691f83",
    "outputId": "3c7244e0-884d-4d8e-a415-6a5af99b64eb"
   },
   "outputs": [
    {
     "name": "stderr",
     "output_type": "stream",
     "text": [
      "[nltk_data] Downloading package wordnet to\n",
      "[nltk_data]     C:\\Users\\lotar\\AppData\\Roaming\\nltk_data...\n",
      "[nltk_data]   Package wordnet is already up-to-date!\n",
      "[nltk_data] Downloading package punkt to\n",
      "[nltk_data]     C:\\Users\\lotar\\AppData\\Roaming\\nltk_data...\n",
      "[nltk_data]   Package punkt is already up-to-date!\n",
      "[nltk_data] Downloading package stopwords to\n",
      "[nltk_data]     C:\\Users\\lotar\\AppData\\Roaming\\nltk_data...\n",
      "[nltk_data]   Package stopwords is already up-to-date!\n",
      "[nltk_data] Downloading package omw-1.4 to\n",
      "[nltk_data]     C:\\Users\\lotar\\AppData\\Roaming\\nltk_data...\n",
      "[nltk_data]   Package omw-1.4 is already up-to-date!\n"
     ]
    },
    {
     "data": {
      "text/plain": [
       "True"
      ]
     },
     "execution_count": 1,
     "metadata": {},
     "output_type": "execute_result"
    }
   ],
   "source": [
    "import pandas as pd\n",
    "import numpy as np\n",
    "import matplotlib.pyplot as plt\n",
    "import nltk\n",
    "from nltk.corpus import stopwords\n",
    "from nltk.stem import SnowballStemmer\n",
    "from nltk.stem.wordnet import WordNetLemmatizer\n",
    "import string\n",
    "from tqdm import tqdm\n",
    "import re\n",
    "from sklearn.feature_extraction.text import CountVectorizer\n",
    "from sklearn.neighbors import KNeighborsClassifier\n",
    "from sklearn.metrics import classification_report\n",
    "from sklearn.metrics import confusion_matrix\n",
    "from sklearn.model_selection import train_test_split\n",
    "import matplotlib.pyplot as plt\n",
    "from sklearn.feature_extraction.text import TfidfVectorizer\n",
    "from sklearn.naive_bayes import GaussianNB\n",
    "from sklearn.linear_model import LogisticRegression\n",
    "from sklearn.neural_network import MLPClassifier\n",
    "from keras.models import Model, Input\n",
    "from keras.layers import LSTM, Dense, TimeDistributed, Bidirectional, Masking\n",
    "from tensorflow.keras import layers\n",
    "import gensim.downloader\n",
    "#!pip install tensorflow\n",
    "import tensorflow as tf\n",
    "tf.config.run_functions_eagerly(True)\n",
    "tf.data.experimental.enable_debug_mode()\n",
    "from keras.preprocessing.sequence import pad_sequences\n",
    "nltk.download('wordnet')\n",
    "nltk.download('punkt')\n",
    "nltk.download('stopwords')\n",
    "stopwords.words('english')\n",
    "nltk.download('omw-1.4')"
   ]
  },
  {
   "cell_type": "markdown",
   "id": "aaed1530",
   "metadata": {
    "id": "aaed1530"
   },
   "source": [
    "## Data Import"
   ]
  },
  {
   "cell_type": "code",
   "execution_count": 2,
   "id": "a0defcf6",
   "metadata": {
    "id": "a0defcf6"
   },
   "outputs": [],
   "source": [
    "#Importing datasets\n",
    "stocks_df_train = pd.read_csv('train.csv')\n",
    "stocks_df_test = pd.read_csv('test.csv')"
   ]
  },
  {
   "cell_type": "markdown",
   "id": "87a2ef20",
   "metadata": {
    "id": "87a2ef20"
   },
   "source": [
    "# **1. Data Exploration**"
   ]
  },
  {
   "cell_type": "code",
   "execution_count": 3,
   "id": "61eead99",
   "metadata": {
    "id": "61eead99"
   },
   "outputs": [],
   "source": [
    "#Transforming the datasets into dataframes\n",
    "stocks_df_train = pd.DataFrame(data=stocks_df_train)\n",
    "stocks_df_test = pd.DataFrame(data=stocks_df_test)\n",
    "\n",
    "#Droping ID from Train and Test sets\n",
    "stocks_df_train.drop(\"Id\", axis=1, inplace=True)\n",
    "stocks_df_test.drop(\"Id\", axis=1, inplace=True)"
   ]
  },
  {
   "cell_type": "code",
   "execution_count": 4,
   "id": "3fa6479c",
   "metadata": {
    "colab": {
     "base_uri": "https://localhost:8080/",
     "height": 1000
    },
    "id": "3fa6479c",
    "outputId": "d0053cc0-9266-49b8-89be-3edc825ea603",
    "scrolled": true
   },
   "outputs": [
    {
     "data": {
      "text/html": [
       "<div>\n",
       "<style scoped>\n",
       "    .dataframe tbody tr th:only-of-type {\n",
       "        vertical-align: middle;\n",
       "    }\n",
       "\n",
       "    .dataframe tbody tr th {\n",
       "        vertical-align: top;\n",
       "    }\n",
       "\n",
       "    .dataframe thead th {\n",
       "        text-align: right;\n",
       "    }\n",
       "</style>\n",
       "<table border=\"1\" class=\"dataframe\">\n",
       "  <thead>\n",
       "    <tr style=\"text-align: right;\">\n",
       "      <th></th>\n",
       "      <th>Closing Status</th>\n",
       "      <th>Headline1</th>\n",
       "      <th>Headline2</th>\n",
       "      <th>Headline3</th>\n",
       "      <th>Headline4</th>\n",
       "      <th>Headline5</th>\n",
       "      <th>Headline6</th>\n",
       "      <th>Headline7</th>\n",
       "      <th>Headline8</th>\n",
       "      <th>Headline9</th>\n",
       "      <th>...</th>\n",
       "      <th>Headline16</th>\n",
       "      <th>Headline17</th>\n",
       "      <th>Headline18</th>\n",
       "      <th>Headline19</th>\n",
       "      <th>Headline20</th>\n",
       "      <th>Headline21</th>\n",
       "      <th>Headline22</th>\n",
       "      <th>Headline23</th>\n",
       "      <th>Headline24</th>\n",
       "      <th>Headline25</th>\n",
       "    </tr>\n",
       "  </thead>\n",
       "  <tbody>\n",
       "    <tr>\n",
       "      <th>0</th>\n",
       "      <td>1</td>\n",
       "      <td>Milan court convicts Berlusconi of tax evasion...</td>\n",
       "      <td>Suicide bomber kills 20 in Afghan mosque</td>\n",
       "      <td>After the biggest double dip since WW2, the UK...</td>\n",
       "      <td>Billions in Hidden Riches for Family of Chines...</td>\n",
       "      <td>Former Italian Prime Minister Silvio Berluscon...</td>\n",
       "      <td>Through Her Sister's Eyes -- \"This seemingly m...</td>\n",
       "      <td>UN to investigate civilian deaths from US dron...</td>\n",
       "      <td>Ben Goldacre: Closed drug trials leave patient...</td>\n",
       "      <td>The U.K. thinks a strike on Iran would be ille...</td>\n",
       "      <td>...</td>\n",
       "      <td>Britain rejects US request to use UK bases in ...</td>\n",
       "      <td>New York Times blocked in China over Wen Jiaba...</td>\n",
       "      <td>What Are the Odds That Israel Just Attacked Su...</td>\n",
       "      <td>Opinion poll shows 43% of French people see Is...</td>\n",
       "      <td>New York Times blocked by China after report o...</td>\n",
       "      <td>The British government opposed the establishme...</td>\n",
       "      <td>Ashok Khemka, a bureaucrat in India, has been ...</td>\n",
       "      <td>Malala's parents overjoyed after first visit i...</td>\n",
       "      <td>A victory for self-defence, but only a partial...</td>\n",
       "      <td>British ExxonMobil oil chief 'assassinated' in...</td>\n",
       "    </tr>\n",
       "    <tr>\n",
       "      <th>1</th>\n",
       "      <td>0</td>\n",
       "      <td>Iraq Police Training: $200 Million Wasted On P...</td>\n",
       "      <td>Pussy Riot: will Vladimir Putin regret taking ...</td>\n",
       "      <td>Syrian troops vow to 'purge' Aleppo of rebels ...</td>\n",
       "      <td>Four Iranians Sentenced to Death Over $2.3 Bln...</td>\n",
       "      <td>Christchurch, New Zealand rebuild plans unveil...</td>\n",
       "      <td>Deadly Ebola Virus Reaches Ugandan Capital</td>\n",
       "      <td>Cat electrocuted; East Delhi goes powerless fo...</td>\n",
       "      <td>In Israel, at least 7 people have set themselv...</td>\n",
       "      <td>Pussy Riot: Our arrest signals start of repres...</td>\n",
       "      <td>...</td>\n",
       "      <td>Britain just signed a 25 year contract to let ...</td>\n",
       "      <td>Air pollution turns Beijing into \"Greyjing\"</td>\n",
       "      <td>Israeli troops kill Palestinian at checkpoint</td>\n",
       "      <td>Couple stoned to death in Mali for having sex ...</td>\n",
       "      <td>Two Journalists Freed by Syrian Rebels After W...</td>\n",
       "      <td>Across Latin America, leaders appalled by the ...</td>\n",
       "      <td>Germany Breaks 25% Renewable Energy Barrier -...</td>\n",
       "      <td>Uruguay Considers Legalizing Marijuana to Stop...</td>\n",
       "      <td>Beijing's Real Olympic Hero: Meet Ji Sizun, im...</td>\n",
       "      <td>Philippines birth control: Filipinos want it, ...</td>\n",
       "    </tr>\n",
       "    <tr>\n",
       "      <th>2</th>\n",
       "      <td>0</td>\n",
       "      <td>Al Shabaab kidnaps, interrogates new Somali mi...</td>\n",
       "      <td>The 'For Neville' email: two words that could ...</td>\n",
       "      <td>Explosion rocks Norwegian PM's office</td>\n",
       "      <td>Speaker of The House says UK \"parliament has r...</td>\n",
       "      <td>James Murdoch knew of phone hacking, former Ne...</td>\n",
       "      <td>Shooting at Norwegian Social Democratic Youth ...</td>\n",
       "      <td>UN report claims North Korea and Iran are exch...</td>\n",
       "      <td>Greece defaults... selectively.</td>\n",
       "      <td>James Murdoch lied to parliament, according to...</td>\n",
       "      <td>...</td>\n",
       "      <td>East Africa's famine: Millions of human beings...</td>\n",
       "      <td>Egypt's military rulers ban foreign election o...</td>\n",
       "      <td>Large explosion in Oslo at Prime ministers off...</td>\n",
       "      <td>A whole block just exploded in Oslo, Norway.  ...</td>\n",
       "      <td>James Murdoch Accused of Lying to Parliament</td>\n",
       "      <td>Eleven killed during mass protests in Syria\\n\\n</td>\n",
       "      <td>Huge explosion in downtown Oslo</td>\n",
       "      <td>Indian Government Blocks Leading File-Sharing ...</td>\n",
       "      <td>The Bin Laden Vaccine: Yes, vaccinations are a...</td>\n",
       "      <td>Posted last week, but buried beneath the bigge...</td>\n",
       "    </tr>\n",
       "    <tr>\n",
       "      <th>3</th>\n",
       "      <td>1</td>\n",
       "      <td>Sweden With Entitlements &amp;amp; Health Care Sur...</td>\n",
       "      <td>Military and medical experts call on doctors t...</td>\n",
       "      <td>Syria's only casino has been shut down and a b...</td>\n",
       "      <td>Japan is \"very sorry\" about irradiating the oc...</td>\n",
       "      <td>First mention in a Chinese newspaper of the de...</td>\n",
       "      <td>In post-Mubarak Egypt, abductions of women hav...</td>\n",
       "      <td>Gadhafi, in letter, asks Obama to end air stri...</td>\n",
       "      <td>Tokyo Electric Power Company \"called the initi...</td>\n",
       "      <td>Video of police assault on Ian Tomlinson, who ...</td>\n",
       "      <td>...</td>\n",
       "      <td>The cop who pushed Ian Tomlinson to the ground...</td>\n",
       "      <td>NHK: Radioactivity at Fukushima Daiichi No. 1-...</td>\n",
       "      <td>Ai Weiwei's detention suggests the bad old day...</td>\n",
       "      <td>75 Year old Georgian Woman shuts down Armenian...</td>\n",
       "      <td>English surgeons protest long wait times for m...</td>\n",
       "      <td>\"Academic researchers worldwide, including vet...</td>\n",
       "      <td>Julian Assange: \"WikiLeaks is the intelligence...</td>\n",
       "      <td>Sudan accuses Israel over Port Sudan air strik...</td>\n",
       "      <td>New Israeli-Palestinian peace proposal present...</td>\n",
       "      <td>International Energy Agency says peak oil happ...</td>\n",
       "    </tr>\n",
       "    <tr>\n",
       "      <th>4</th>\n",
       "      <td>0</td>\n",
       "      <td>FIFA has banned Croatian defender Josip Simuni...</td>\n",
       "      <td>Devyani arrest: India asks all US diplomats to...</td>\n",
       "      <td>Sochi Olympic critics get terrorist treatment ...</td>\n",
       "      <td>London Bankers Expect 44% Bonus Increase, Surv...</td>\n",
       "      <td>USS Ronald Reagan sailors report cancers after...</td>\n",
       "      <td>Saudi Arabia: New law to set marital age of co...</td>\n",
       "      <td>India on Tuesday retaliated strongly to the ar...</td>\n",
       "      <td>New Snowden leak - Norways secret surveillance...</td>\n",
       "      <td>In a 1984 moment, North Korea deletes near ent...</td>\n",
       "      <td>...</td>\n",
       "      <td>Thousands of Germans get warning letters askin...</td>\n",
       "      <td>The rape victim that India forgot - Bereft of ...</td>\n",
       "      <td>Pirate Bay founder's prison conditions improve...</td>\n",
       "      <td>Pope Francis blesses 'Jesus the Homeless' scul...</td>\n",
       "      <td>It's not an act: Kim Jong Uns former classmate...</td>\n",
       "      <td>After deleting 99% of it's state news archive ...</td>\n",
       "      <td>UN declares that the right to privacy, includi...</td>\n",
       "      <td>Matthew Perry gets in heated, televised argume...</td>\n",
       "      <td>Snowden offers to help Brazil investigate NSA ...</td>\n",
       "      <td>No Amnesty For Edward Snowden, White House Say...</td>\n",
       "    </tr>\n",
       "    <tr>\n",
       "      <th>...</th>\n",
       "      <td>...</td>\n",
       "      <td>...</td>\n",
       "      <td>...</td>\n",
       "      <td>...</td>\n",
       "      <td>...</td>\n",
       "      <td>...</td>\n",
       "      <td>...</td>\n",
       "      <td>...</td>\n",
       "      <td>...</td>\n",
       "      <td>...</td>\n",
       "      <td>...</td>\n",
       "      <td>...</td>\n",
       "      <td>...</td>\n",
       "      <td>...</td>\n",
       "      <td>...</td>\n",
       "      <td>...</td>\n",
       "      <td>...</td>\n",
       "      <td>...</td>\n",
       "      <td>...</td>\n",
       "      <td>...</td>\n",
       "      <td>...</td>\n",
       "    </tr>\n",
       "    <tr>\n",
       "      <th>1685</th>\n",
       "      <td>1</td>\n",
       "      <td>North Korea Fires Another Missile, Just as Oba...</td>\n",
       "      <td>China editor resigns over media censorship</td>\n",
       "      <td>Brussels attacks: 'Fight the westerners' text ...</td>\n",
       "      <td>\"Saudi Arabia's largest dairy company will soo...</td>\n",
       "      <td>Terrorists who targeted park filled with child...</td>\n",
       "      <td>Indian Supreme Court agreed on Monday to hear ...</td>\n",
       "      <td>Turkey summoned German ambassador over satiric...</td>\n",
       "      <td>Putin Faces Information Attack on Wealth, Frie...</td>\n",
       "      <td>U$1bn poured so rapidly into Malaysian PM's pe...</td>\n",
       "      <td>...</td>\n",
       "      <td>Palestinian fabricated 'Jewish terror attack',...</td>\n",
       "      <td>CIA used nude photos as sexual humiliation on ...</td>\n",
       "      <td>Russian weapons exports expected to receive $6...</td>\n",
       "      <td>Many millions of Muslims 'fundamentally incomp...</td>\n",
       "      <td>Japan's retirees turn to crime for a better li...</td>\n",
       "      <td>Saudi Economy Shows Deepening Signs of Strain ...</td>\n",
       "      <td>EgyptAir Domestic Flight From Alexandria to Ca...</td>\n",
       "      <td>Arctic sea ice sets wintertime record low than...</td>\n",
       "      <td>Falkland Islands lie in Argentinian waters, ru...</td>\n",
       "      <td>ISIS planning imminent attack on Jewish school...</td>\n",
       "    </tr>\n",
       "    <tr>\n",
       "      <th>1686</th>\n",
       "      <td>0</td>\n",
       "      <td>Russia Bans Fresh Vegetables from EU because o...</td>\n",
       "      <td>Pakistani journalist who wrote about military'...</td>\n",
       "      <td>Al-Shabaab, the Somali militant group that has...</td>\n",
       "      <td>Self-confident females terrify the old Arab ty...</td>\n",
       "      <td>Two ships from the Sea Shepherd Conservation S...</td>\n",
       "      <td>Canada tries to hide Alberta tar sands carbon ...</td>\n",
       "      <td>Pro-Government Cyber Attacks In The Middle Eas...</td>\n",
       "      <td>A Chinese agribusiness firm is to buy a large ...</td>\n",
       "      <td>Julian Assange awarded top UK Journalism Prize</td>\n",
       "      <td>...</td>\n",
       "      <td>Decriminalise possession of drugs, celebrities...</td>\n",
       "      <td>Student Locked up for reading a poem at pro-de...</td>\n",
       "      <td>E-coli outbreak in Europe is a new strain; exp...</td>\n",
       "      <td>Banned video by Serbian Government. No media i...</td>\n",
       "      <td>As vaccination drops, pertussis and measles on...</td>\n",
       "      <td>Chinese hacking of Gmail accounts of journalis...</td>\n",
       "      <td>Global leaders - \"Global war on drugs has failed\"</td>\n",
       "      <td>Alleged Libyan rape victim deported from Qatar...</td>\n",
       "      <td>NSFW Syrian security forces shoots mourners of...</td>\n",
       "      <td>Global war on drugs 'a failure': High-level pa...</td>\n",
       "    </tr>\n",
       "    <tr>\n",
       "      <th>1687</th>\n",
       "      <td>0</td>\n",
       "      <td>b'Seven new albino killings have been reported...</td>\n",
       "      <td>b'Monks with Guns'</td>\n",
       "      <td>b'Germany votes to bail out Greece'</td>\n",
       "      <td>b'Germany says the Allied victory in World War...</td>\n",
       "      <td>b'Greek Protest Dog'</td>\n",
       "      <td>b'What happened today was no fat finger: it wa...</td>\n",
       "      <td>b' Is there anyone from New Zealand out there?...</td>\n",
       "      <td>b'Nick Clegg: Party with most seats to govern ...</td>\n",
       "      <td>b'Medvedev denounces Stalin for mass crimes ag...</td>\n",
       "      <td>...</td>\n",
       "      <td>b\"Hezbollah says it's ready for fresh war with...</td>\n",
       "      <td>b'Oil Struck near Falklands Islands, UK Defens...</td>\n",
       "      <td>b'On a positive note, Britain elects the first...</td>\n",
       "      <td>b'Iran President Mahmoud Ahmadinejad: Osama Bi...</td>\n",
       "      <td>b'UK: Voters declare their anger as thousands ...</td>\n",
       "      <td>b'Gulf of Mexico oil slick: Sarah Palin fuels ...</td>\n",
       "      <td>b'No wonder the Greeks are FURIOUS. You\\'d be ...</td>\n",
       "      <td>b'Let me get this clear, the Greeks DO NOT RET...</td>\n",
       "      <td>b\"Scottish island 'crime' would be first in 40...</td>\n",
       "      <td>b'If a candidate in the UK election gets less ...</td>\n",
       "    </tr>\n",
       "    <tr>\n",
       "      <th>1688</th>\n",
       "      <td>0</td>\n",
       "      <td>b\"Torture Victim Turns Tables on Libya at 'Rac...</td>\n",
       "      <td>b\"According to reports, the European Commissio...</td>\n",
       "      <td>b'Muslim Cleric participates in \"Rabbis and Im...</td>\n",
       "      <td>b'China: Late last year, the government cut to...</td>\n",
       "      <td>b'Lets Get The Somali Pirates To Patrol The Se...</td>\n",
       "      <td>b\"Turkey's scheming in Strasbourg shows it doe...</td>\n",
       "      <td>b'Amnesty International: Fiji Develops Culture...</td>\n",
       "      <td>b\"Hamas directed gunmen to eliminate political...</td>\n",
       "      <td>b'The public are fast losing patience with thu...</td>\n",
       "      <td>...</td>\n",
       "      <td>b\"Red Cross 'worn out' in Sri Lanka (Horrifyin...</td>\n",
       "      <td>b'Father denies Slumdog child sale -- He was t...</td>\n",
       "      <td>b'Swedes demonstrate in support of Pirate Bay'</td>\n",
       "      <td>b'A survey 16 copyright regimes around the wor...</td>\n",
       "      <td>b'Swiss president ignores Israel lobby and pro...</td>\n",
       "      <td>b\"Somalia's Godfathers: Ransom-Rich Pirates\"</td>\n",
       "      <td>b'Israel decides to build a \"Museum of Toleran...</td>\n",
       "      <td>b'While White-listing Syria, Linkedin Keeps Su...</td>\n",
       "      <td>b\"International condoms 'too big' for Indian men\"</td>\n",
       "      <td>b'Ahmadinejad says Israel is run by a racist g...</td>\n",
       "    </tr>\n",
       "    <tr>\n",
       "      <th>1689</th>\n",
       "      <td>0</td>\n",
       "      <td>Millionaire Dennis Tito to send couple on mann...</td>\n",
       "      <td>European Union Moves Toward Bonus Cap for Bankers</td>\n",
       "      <td>FOSS Patents: UK judge who issued extreme ruli...</td>\n",
       "      <td>Court orders UK ISPs to block more piracy sites</td>\n",
       "      <td>Shell says it will pause drilling in Arctic Oc...</td>\n",
       "      <td>Japan to Begin Restarting Idled Nuclear Plants...</td>\n",
       "      <td>Australia makes largest meths seizure. 'Austra...</td>\n",
       "      <td>Police assaulting a cameraman during a protest...</td>\n",
       "      <td>The Pilot of the Hot Air Balloon that crashed ...</td>\n",
       "      <td>...</td>\n",
       "      <td>What Happened To The Aid Meant To Rebuild Haiti?</td>\n",
       "      <td>Chinese Woman Left Humiliated After Fake Baby ...</td>\n",
       "      <td>South African police drag man 400m behind poli...</td>\n",
       "      <td>Australian Muslim men charged with assault for...</td>\n",
       "      <td>BBC News - EU agrees to cap bankers' bonuses</td>\n",
       "      <td>First Tweet from North Korea - \"Hello World\"</td>\n",
       "      <td>'Marijuana cannon' used to fire drugs over US ...</td>\n",
       "      <td>emember the hibernating Swede - Lived 2 months...</td>\n",
       "      <td>Asda's 'Made in Italy' tomato puree actually h...</td>\n",
       "      <td>North Korean prison camp was the only life he ...</td>\n",
       "    </tr>\n",
       "  </tbody>\n",
       "</table>\n",
       "<p>1690 rows × 26 columns</p>\n",
       "</div>"
      ],
      "text/plain": [
       "      Closing Status                                          Headline1  \\\n",
       "0                  1  Milan court convicts Berlusconi of tax evasion...   \n",
       "1                  0  Iraq Police Training: $200 Million Wasted On P...   \n",
       "2                  0  Al Shabaab kidnaps, interrogates new Somali mi...   \n",
       "3                  1  Sweden With Entitlements &amp; Health Care Sur...   \n",
       "4                  0  FIFA has banned Croatian defender Josip Simuni...   \n",
       "...              ...                                                ...   \n",
       "1685               1  North Korea Fires Another Missile, Just as Oba...   \n",
       "1686               0  Russia Bans Fresh Vegetables from EU because o...   \n",
       "1687               0  b'Seven new albino killings have been reported...   \n",
       "1688               0  b\"Torture Victim Turns Tables on Libya at 'Rac...   \n",
       "1689               0  Millionaire Dennis Tito to send couple on mann...   \n",
       "\n",
       "                                              Headline2  \\\n",
       "0             Suicide bomber kills 20 in Afghan mosque    \n",
       "1     Pussy Riot: will Vladimir Putin regret taking ...   \n",
       "2     The 'For Neville' email: two words that could ...   \n",
       "3     Military and medical experts call on doctors t...   \n",
       "4     Devyani arrest: India asks all US diplomats to...   \n",
       "...                                                 ...   \n",
       "1685         China editor resigns over media censorship   \n",
       "1686  Pakistani journalist who wrote about military'...   \n",
       "1687                                 b'Monks with Guns'   \n",
       "1688  b\"According to reports, the European Commissio...   \n",
       "1689  European Union Moves Toward Bonus Cap for Bankers   \n",
       "\n",
       "                                              Headline3  \\\n",
       "0     After the biggest double dip since WW2, the UK...   \n",
       "1     Syrian troops vow to 'purge' Aleppo of rebels ...   \n",
       "2                 Explosion rocks Norwegian PM's office   \n",
       "3     Syria's only casino has been shut down and a b...   \n",
       "4     Sochi Olympic critics get terrorist treatment ...   \n",
       "...                                                 ...   \n",
       "1685  Brussels attacks: 'Fight the westerners' text ...   \n",
       "1686  Al-Shabaab, the Somali militant group that has...   \n",
       "1687                b'Germany votes to bail out Greece'   \n",
       "1688  b'Muslim Cleric participates in \"Rabbis and Im...   \n",
       "1689  FOSS Patents: UK judge who issued extreme ruli...   \n",
       "\n",
       "                                              Headline4  \\\n",
       "0     Billions in Hidden Riches for Family of Chines...   \n",
       "1     Four Iranians Sentenced to Death Over $2.3 Bln...   \n",
       "2     Speaker of The House says UK \"parliament has r...   \n",
       "3     Japan is \"very sorry\" about irradiating the oc...   \n",
       "4     London Bankers Expect 44% Bonus Increase, Surv...   \n",
       "...                                                 ...   \n",
       "1685  \"Saudi Arabia's largest dairy company will soo...   \n",
       "1686  Self-confident females terrify the old Arab ty...   \n",
       "1687  b'Germany says the Allied victory in World War...   \n",
       "1688  b'China: Late last year, the government cut to...   \n",
       "1689    Court orders UK ISPs to block more piracy sites   \n",
       "\n",
       "                                              Headline5  \\\n",
       "0     Former Italian Prime Minister Silvio Berluscon...   \n",
       "1     Christchurch, New Zealand rebuild plans unveil...   \n",
       "2     James Murdoch knew of phone hacking, former Ne...   \n",
       "3     First mention in a Chinese newspaper of the de...   \n",
       "4     USS Ronald Reagan sailors report cancers after...   \n",
       "...                                                 ...   \n",
       "1685  Terrorists who targeted park filled with child...   \n",
       "1686  Two ships from the Sea Shepherd Conservation S...   \n",
       "1687                               b'Greek Protest Dog'   \n",
       "1688  b'Lets Get The Somali Pirates To Patrol The Se...   \n",
       "1689  Shell says it will pause drilling in Arctic Oc...   \n",
       "\n",
       "                                              Headline6  \\\n",
       "0     Through Her Sister's Eyes -- \"This seemingly m...   \n",
       "1            Deadly Ebola Virus Reaches Ugandan Capital   \n",
       "2     Shooting at Norwegian Social Democratic Youth ...   \n",
       "3     In post-Mubarak Egypt, abductions of women hav...   \n",
       "4     Saudi Arabia: New law to set marital age of co...   \n",
       "...                                                 ...   \n",
       "1685  Indian Supreme Court agreed on Monday to hear ...   \n",
       "1686  Canada tries to hide Alberta tar sands carbon ...   \n",
       "1687  b'What happened today was no fat finger: it wa...   \n",
       "1688  b\"Turkey's scheming in Strasbourg shows it doe...   \n",
       "1689  Japan to Begin Restarting Idled Nuclear Plants...   \n",
       "\n",
       "                                              Headline7  \\\n",
       "0     UN to investigate civilian deaths from US dron...   \n",
       "1     Cat electrocuted; East Delhi goes powerless fo...   \n",
       "2     UN report claims North Korea and Iran are exch...   \n",
       "3     Gadhafi, in letter, asks Obama to end air stri...   \n",
       "4     India on Tuesday retaliated strongly to the ar...   \n",
       "...                                                 ...   \n",
       "1685  Turkey summoned German ambassador over satiric...   \n",
       "1686  Pro-Government Cyber Attacks In The Middle Eas...   \n",
       "1687  b' Is there anyone from New Zealand out there?...   \n",
       "1688  b'Amnesty International: Fiji Develops Culture...   \n",
       "1689  Australia makes largest meths seizure. 'Austra...   \n",
       "\n",
       "                                              Headline8  \\\n",
       "0     Ben Goldacre: Closed drug trials leave patient...   \n",
       "1     In Israel, at least 7 people have set themselv...   \n",
       "2                      Greece defaults... selectively.    \n",
       "3     Tokyo Electric Power Company \"called the initi...   \n",
       "4     New Snowden leak - Norways secret surveillance...   \n",
       "...                                                 ...   \n",
       "1685  Putin Faces Information Attack on Wealth, Frie...   \n",
       "1686  A Chinese agribusiness firm is to buy a large ...   \n",
       "1687  b'Nick Clegg: Party with most seats to govern ...   \n",
       "1688  b\"Hamas directed gunmen to eliminate political...   \n",
       "1689  Police assaulting a cameraman during a protest...   \n",
       "\n",
       "                                              Headline9  ...  \\\n",
       "0     The U.K. thinks a strike on Iran would be ille...  ...   \n",
       "1     Pussy Riot: Our arrest signals start of repres...  ...   \n",
       "2     James Murdoch lied to parliament, according to...  ...   \n",
       "3     Video of police assault on Ian Tomlinson, who ...  ...   \n",
       "4     In a 1984 moment, North Korea deletes near ent...  ...   \n",
       "...                                                 ...  ...   \n",
       "1685  U$1bn poured so rapidly into Malaysian PM's pe...  ...   \n",
       "1686     Julian Assange awarded top UK Journalism Prize  ...   \n",
       "1687  b'Medvedev denounces Stalin for mass crimes ag...  ...   \n",
       "1688  b'The public are fast losing patience with thu...  ...   \n",
       "1689  The Pilot of the Hot Air Balloon that crashed ...  ...   \n",
       "\n",
       "                                             Headline16  \\\n",
       "0     Britain rejects US request to use UK bases in ...   \n",
       "1     Britain just signed a 25 year contract to let ...   \n",
       "2     East Africa's famine: Millions of human beings...   \n",
       "3     The cop who pushed Ian Tomlinson to the ground...   \n",
       "4     Thousands of Germans get warning letters askin...   \n",
       "...                                                 ...   \n",
       "1685  Palestinian fabricated 'Jewish terror attack',...   \n",
       "1686  Decriminalise possession of drugs, celebrities...   \n",
       "1687  b\"Hezbollah says it's ready for fresh war with...   \n",
       "1688  b\"Red Cross 'worn out' in Sri Lanka (Horrifyin...   \n",
       "1689   What Happened To The Aid Meant To Rebuild Haiti?   \n",
       "\n",
       "                                             Headline17  \\\n",
       "0     New York Times blocked in China over Wen Jiaba...   \n",
       "1           Air pollution turns Beijing into \"Greyjing\"   \n",
       "2     Egypt's military rulers ban foreign election o...   \n",
       "3     NHK: Radioactivity at Fukushima Daiichi No. 1-...   \n",
       "4     The rape victim that India forgot - Bereft of ...   \n",
       "...                                                 ...   \n",
       "1685  CIA used nude photos as sexual humiliation on ...   \n",
       "1686  Student Locked up for reading a poem at pro-de...   \n",
       "1687  b'Oil Struck near Falklands Islands, UK Defens...   \n",
       "1688  b'Father denies Slumdog child sale -- He was t...   \n",
       "1689  Chinese Woman Left Humiliated After Fake Baby ...   \n",
       "\n",
       "                                             Headline18  \\\n",
       "0     What Are the Odds That Israel Just Attacked Su...   \n",
       "1         Israeli troops kill Palestinian at checkpoint   \n",
       "2     Large explosion in Oslo at Prime ministers off...   \n",
       "3     Ai Weiwei's detention suggests the bad old day...   \n",
       "4     Pirate Bay founder's prison conditions improve...   \n",
       "...                                                 ...   \n",
       "1685  Russian weapons exports expected to receive $6...   \n",
       "1686  E-coli outbreak in Europe is a new strain; exp...   \n",
       "1687  b'On a positive note, Britain elects the first...   \n",
       "1688     b'Swedes demonstrate in support of Pirate Bay'   \n",
       "1689  South African police drag man 400m behind poli...   \n",
       "\n",
       "                                             Headline19  \\\n",
       "0     Opinion poll shows 43% of French people see Is...   \n",
       "1     Couple stoned to death in Mali for having sex ...   \n",
       "2     A whole block just exploded in Oslo, Norway.  ...   \n",
       "3     75 Year old Georgian Woman shuts down Armenian...   \n",
       "4     Pope Francis blesses 'Jesus the Homeless' scul...   \n",
       "...                                                 ...   \n",
       "1685  Many millions of Muslims 'fundamentally incomp...   \n",
       "1686  Banned video by Serbian Government. No media i...   \n",
       "1687  b'Iran President Mahmoud Ahmadinejad: Osama Bi...   \n",
       "1688  b'A survey 16 copyright regimes around the wor...   \n",
       "1689  Australian Muslim men charged with assault for...   \n",
       "\n",
       "                                             Headline20  \\\n",
       "0     New York Times blocked by China after report o...   \n",
       "1     Two Journalists Freed by Syrian Rebels After W...   \n",
       "2          James Murdoch Accused of Lying to Parliament   \n",
       "3     English surgeons protest long wait times for m...   \n",
       "4     It's not an act: Kim Jong Uns former classmate...   \n",
       "...                                                 ...   \n",
       "1685  Japan's retirees turn to crime for a better li...   \n",
       "1686  As vaccination drops, pertussis and measles on...   \n",
       "1687  b'UK: Voters declare their anger as thousands ...   \n",
       "1688  b'Swiss president ignores Israel lobby and pro...   \n",
       "1689       BBC News - EU agrees to cap bankers' bonuses   \n",
       "\n",
       "                                             Headline21  \\\n",
       "0     The British government opposed the establishme...   \n",
       "1     Across Latin America, leaders appalled by the ...   \n",
       "2       Eleven killed during mass protests in Syria\\n\\n   \n",
       "3     \"Academic researchers worldwide, including vet...   \n",
       "4     After deleting 99% of it's state news archive ...   \n",
       "...                                                 ...   \n",
       "1685  Saudi Economy Shows Deepening Signs of Strain ...   \n",
       "1686  Chinese hacking of Gmail accounts of journalis...   \n",
       "1687  b'Gulf of Mexico oil slick: Sarah Palin fuels ...   \n",
       "1688       b\"Somalia's Godfathers: Ransom-Rich Pirates\"   \n",
       "1689       First Tweet from North Korea - \"Hello World\"   \n",
       "\n",
       "                                             Headline22  \\\n",
       "0     Ashok Khemka, a bureaucrat in India, has been ...   \n",
       "1      Germany Breaks 25% Renewable Energy Barrier -...   \n",
       "2                       Huge explosion in downtown Oslo   \n",
       "3     Julian Assange: \"WikiLeaks is the intelligence...   \n",
       "4     UN declares that the right to privacy, includi...   \n",
       "...                                                 ...   \n",
       "1685  EgyptAir Domestic Flight From Alexandria to Ca...   \n",
       "1686  Global leaders - \"Global war on drugs has failed\"   \n",
       "1687  b'No wonder the Greeks are FURIOUS. You\\'d be ...   \n",
       "1688  b'Israel decides to build a \"Museum of Toleran...   \n",
       "1689  'Marijuana cannon' used to fire drugs over US ...   \n",
       "\n",
       "                                             Headline23  \\\n",
       "0     Malala's parents overjoyed after first visit i...   \n",
       "1     Uruguay Considers Legalizing Marijuana to Stop...   \n",
       "2     Indian Government Blocks Leading File-Sharing ...   \n",
       "3     Sudan accuses Israel over Port Sudan air strik...   \n",
       "4     Matthew Perry gets in heated, televised argume...   \n",
       "...                                                 ...   \n",
       "1685  Arctic sea ice sets wintertime record low than...   \n",
       "1686  Alleged Libyan rape victim deported from Qatar...   \n",
       "1687  b'Let me get this clear, the Greeks DO NOT RET...   \n",
       "1688  b'While White-listing Syria, Linkedin Keeps Su...   \n",
       "1689  emember the hibernating Swede - Lived 2 months...   \n",
       "\n",
       "                                             Headline24  \\\n",
       "0     A victory for self-defence, but only a partial...   \n",
       "1     Beijing's Real Olympic Hero: Meet Ji Sizun, im...   \n",
       "2     The Bin Laden Vaccine: Yes, vaccinations are a...   \n",
       "3     New Israeli-Palestinian peace proposal present...   \n",
       "4     Snowden offers to help Brazil investigate NSA ...   \n",
       "...                                                 ...   \n",
       "1685  Falkland Islands lie in Argentinian waters, ru...   \n",
       "1686  NSFW Syrian security forces shoots mourners of...   \n",
       "1687  b\"Scottish island 'crime' would be first in 40...   \n",
       "1688  b\"International condoms 'too big' for Indian men\"   \n",
       "1689  Asda's 'Made in Italy' tomato puree actually h...   \n",
       "\n",
       "                                             Headline25  \n",
       "0     British ExxonMobil oil chief 'assassinated' in...  \n",
       "1     Philippines birth control: Filipinos want it, ...  \n",
       "2     Posted last week, but buried beneath the bigge...  \n",
       "3     International Energy Agency says peak oil happ...  \n",
       "4     No Amnesty For Edward Snowden, White House Say...  \n",
       "...                                                 ...  \n",
       "1685  ISIS planning imminent attack on Jewish school...  \n",
       "1686  Global war on drugs 'a failure': High-level pa...  \n",
       "1687  b'If a candidate in the UK election gets less ...  \n",
       "1688  b'Ahmadinejad says Israel is run by a racist g...  \n",
       "1689  North Korean prison camp was the only life he ...  \n",
       "\n",
       "[1690 rows x 26 columns]"
      ]
     },
     "execution_count": 4,
     "metadata": {},
     "output_type": "execute_result"
    }
   ],
   "source": [
    "stocks_df_train"
   ]
  },
  {
   "cell_type": "code",
   "execution_count": 5,
   "id": "28231c23",
   "metadata": {
    "colab": {
     "base_uri": "https://localhost:8080/",
     "height": 803
    },
    "id": "28231c23",
    "outputId": "59433745-a1f3-4246-cd31-eeab464e4bd1"
   },
   "outputs": [
    {
     "data": {
      "text/html": [
       "<div>\n",
       "<style scoped>\n",
       "    .dataframe tbody tr th:only-of-type {\n",
       "        vertical-align: middle;\n",
       "    }\n",
       "\n",
       "    .dataframe tbody tr th {\n",
       "        vertical-align: top;\n",
       "    }\n",
       "\n",
       "    .dataframe thead th {\n",
       "        text-align: right;\n",
       "    }\n",
       "</style>\n",
       "<table border=\"1\" class=\"dataframe\">\n",
       "  <thead>\n",
       "    <tr style=\"text-align: right;\">\n",
       "      <th></th>\n",
       "      <th>Headline1</th>\n",
       "      <th>Headline2</th>\n",
       "      <th>Headline3</th>\n",
       "      <th>Headline4</th>\n",
       "      <th>Headline5</th>\n",
       "      <th>Headline6</th>\n",
       "      <th>Headline7</th>\n",
       "      <th>Headline8</th>\n",
       "      <th>Headline9</th>\n",
       "      <th>Headline10</th>\n",
       "      <th>...</th>\n",
       "      <th>Headline16</th>\n",
       "      <th>Headline17</th>\n",
       "      <th>Headline18</th>\n",
       "      <th>Headline19</th>\n",
       "      <th>Headline20</th>\n",
       "      <th>Headline21</th>\n",
       "      <th>Headline22</th>\n",
       "      <th>Headline23</th>\n",
       "      <th>Headline24</th>\n",
       "      <th>Headline25</th>\n",
       "    </tr>\n",
       "  </thead>\n",
       "  <tbody>\n",
       "    <tr>\n",
       "      <th>0</th>\n",
       "      <td>China cyber probes show electronic warfare foc...</td>\n",
       "      <td>More pupils than expected in 'illegal schools'...</td>\n",
       "      <td>Police sealed off a hotel in Ankara on Sunday,...</td>\n",
       "      <td>Car fires turning into a Dutch plague, 100s to...</td>\n",
       "      <td>Magnitude 5.6 / Shindo 5 earthquake shakes Iba...</td>\n",
       "      <td>Police in Colombia seize more than 8 tons of c...</td>\n",
       "      <td>Google (GOOGL.O) faces a record antitrust fine...</td>\n",
       "      <td>China waging war against ancient superstitions...</td>\n",
       "      <td>Erdoan pictured as Hitler on Turkish Embassy i...</td>\n",
       "      <td>India successfully test-fires indigenously dev...</td>\n",
       "      <td>...</td>\n",
       "      <td>An online al Qaeda magazine is calling for jih...</td>\n",
       "      <td>North Korea releases Russian yacht - detention...</td>\n",
       "      <td>Duterte vows to kill criminals and reintroduce...</td>\n",
       "      <td>Venezuelan President decrees emergency, seizes...</td>\n",
       "      <td>Luxembourg prosecutors seek jail time for whis...</td>\n",
       "      <td>Al Qaeda Turns to Syria, With a Plan to Challe...</td>\n",
       "      <td>Iran is arresting models who pose without head...</td>\n",
       "      <td>Scientists Seek To Bring Dead Brains Back To Life</td>\n",
       "      <td>Former CIA agent admits involvment in Nelson M...</td>\n",
       "      <td>New move to impeach Tony Blair over Iraq War g...</td>\n",
       "    </tr>\n",
       "    <tr>\n",
       "      <th>1</th>\n",
       "      <td>b'Mosab Hassan Yousef, son of Hamas leader, be...</td>\n",
       "      <td>b\"Gold Farming Comparable In $$ To India's Ent...</td>\n",
       "      <td>b\"UK child protection database 'will be used t...</td>\n",
       "      <td>b'The Puppet Masters Behind Georgia President ...</td>\n",
       "      <td>b'2008 Globally the Coldest Year of the Centur...</td>\n",
       "      <td>b\"Iceland's Armed Forces Unveils Mecha-Bjrk [P...</td>\n",
       "      <td>b'Victims Of \"Nigerian Scams\" Giving Nigeria A...</td>\n",
       "      <td>b'Refugee camp in Darfur under direct attack'</td>\n",
       "      <td>b'Israel claims allowing an aid ship to reach ...</td>\n",
       "      <td>b' Israel releases 198 Palestinian prisoners'</td>\n",
       "      <td>...</td>\n",
       "      <td>b\"Flashback: Naked, drunk, surrounded by sex t...</td>\n",
       "      <td>b'Let\\'s rewrite history :  A new historical c...</td>\n",
       "      <td>b\"SHOCK! Amsterdam's Smoking Ban Doesn't Apply...</td>\n",
       "      <td>b'Pedophile attempts to assault and kidnap chi...</td>\n",
       "      <td>b'Swiss engineers, a nuclear black market and ...</td>\n",
       "      <td>b'Russia accused of violating ceasefire deal'</td>\n",
       "      <td>b\"N Korea's Kim died in 2003; replaced by look...</td>\n",
       "      <td>b'Four killed in Kashmir protests'</td>\n",
       "      <td>b'Iraqi Teenage Girl Wearing Explosives Turns ...</td>\n",
       "      <td>b'Wealthy Mexicans, terrified of soaring kidna...</td>\n",
       "    </tr>\n",
       "    <tr>\n",
       "      <th>2</th>\n",
       "      <td>U.S. warships accompany British commercial ves...</td>\n",
       "      <td>UN calls for suspension of TTIP talks over fea...</td>\n",
       "      <td>Netanyahu: Israel will fight racism - Ethiopia...</td>\n",
       "      <td>Boko Haram stoned captive girls to death as re...</td>\n",
       "      <td>Sexting could see teenagers branded as sex off...</td>\n",
       "      <td>The lower house of Frances Parliament overwhel...</td>\n",
       "      <td>Jewish students to protest violence by speakin...</td>\n",
       "      <td>UN: More than 200 young women rescued from Bok...</td>\n",
       "      <td>Canada's Trudeau vows to cut middle-class taxe...</td>\n",
       "      <td>China is using Shanghai as a testing ground fo...</td>\n",
       "      <td>...</td>\n",
       "      <td>Prime Minister of Singapore shares his C++ cod...</td>\n",
       "      <td>South African universities join academic boyco...</td>\n",
       "      <td>The world needs to triple its investments in c...</td>\n",
       "      <td>TransCanada Keystone 1 Pipeline Suffered Major...</td>\n",
       "      <td>Fertilizer, Also Suited for Bombs, Flows to IS...</td>\n",
       "      <td>Jihadists destroy proposed world heritage site...</td>\n",
       "      <td>Qatar detained German reporters investigating ...</td>\n",
       "      <td>China overtakes Mexico as top sender of immigr...</td>\n",
       "      <td>Philippines' Most Wanted Terrorist Killed by B...</td>\n",
       "      <td>Canada poised to pass anti-terror legislation ...</td>\n",
       "    </tr>\n",
       "    <tr>\n",
       "      <th>3</th>\n",
       "      <td>400,000-year-old fossils from Spain provide ea...</td>\n",
       "      <td>Blood Lions documentary exposes controversial ...</td>\n",
       "      <td>Saudi Arabia 'planning Nato-like military alli...</td>\n",
       "      <td>Pakistan cricket captain Shahid Afridi accused...</td>\n",
       "      <td>Saudi Arabia-led coalition kills 41 civilians ...</td>\n",
       "      <td>NSW, Australia: Anti-coal seam gas protesters ...</td>\n",
       "      <td>Belgian police hunt gunman after Brussels anti...</td>\n",
       "      <td>NASA will intentionally start a fire on a carg...</td>\n",
       "      <td>North Korea Sentences US Tourist to 15 Years i...</td>\n",
       "      <td>Chinese website publishes, then pulls, explosi...</td>\n",
       "      <td>...</td>\n",
       "      <td>Denmark world's happiest country, Burundi leas...</td>\n",
       "      <td>Rescuers: Female suicide bombers kill 22 at Ni...</td>\n",
       "      <td>A powerful Syrian Kurdish political party is p...</td>\n",
       "      <td>The world's first solar airport no longer pays...</td>\n",
       "      <td>More than 40 civilians killed in Yemen market ...</td>\n",
       "      <td>Canadian woman who successfully sued province ...</td>\n",
       "      <td>FIFA admits to World Cup hosting bribes, asks ...</td>\n",
       "      <td>Brazil's ex-president Luiz Inacio Lula da Silv...</td>\n",
       "      <td>Netherlands votes to ban weapons exports to Sa...</td>\n",
       "      <td>Argentina sinks Chinese vessel, cites illegal ...</td>\n",
       "    </tr>\n",
       "    <tr>\n",
       "      <th>4</th>\n",
       "      <td>GoDaddy Pulls Lavabit's Security Creds Because...</td>\n",
       "      <td>Thai Police Are Shocked, Shocked After Rihanna...</td>\n",
       "      <td>Lavabit comes back online for 96 hours to allo...</td>\n",
       "      <td>Snowden leaks: David Cameron urges committee t...</td>\n",
       "      <td>Malala Yousafzai to get honorary Canadian citi...</td>\n",
       "      <td>BP oil spill: Ex-Halliburton manager pleads gu...</td>\n",
       "      <td>Dutch diplomat assaulted in Russia</td>\n",
       "      <td>93 dead as 7.2 magnitude quake hits Philippine...</td>\n",
       "      <td>Divers have recovered what may be a 570kg chun...</td>\n",
       "      <td>Colombian Street Gangs Kidnap Girls and Auctio...</td>\n",
       "      <td>...</td>\n",
       "      <td>Iraq War death toll near 500K, new study estim...</td>\n",
       "      <td>Brazilian government to ditch Microsoft in fav...</td>\n",
       "      <td>Iraq war claimed half a million lives, peer-re...</td>\n",
       "      <td>Brazilian judge rules in favour of farmers aga...</td>\n",
       "      <td>The Canadian Government Is Spying on Behalf of...</td>\n",
       "      <td>The number of cockroach farms in China is growing</td>\n",
       "      <td>France finds Church of Scientology guilty of \"...</td>\n",
       "      <td>\"I just want to have a future.\" Anger in Franc...</td>\n",
       "      <td>Using military-grade helicopters, night-vision...</td>\n",
       "      <td>Jihadi Work Accident: Two Al-Shabaab Suicide B...</td>\n",
       "    </tr>\n",
       "  </tbody>\n",
       "</table>\n",
       "<p>5 rows × 25 columns</p>\n",
       "</div>"
      ],
      "text/plain": [
       "                                           Headline1  \\\n",
       "0  China cyber probes show electronic warfare foc...   \n",
       "1  b'Mosab Hassan Yousef, son of Hamas leader, be...   \n",
       "2  U.S. warships accompany British commercial ves...   \n",
       "3  400,000-year-old fossils from Spain provide ea...   \n",
       "4  GoDaddy Pulls Lavabit's Security Creds Because...   \n",
       "\n",
       "                                           Headline2  \\\n",
       "0  More pupils than expected in 'illegal schools'...   \n",
       "1  b\"Gold Farming Comparable In $$ To India's Ent...   \n",
       "2  UN calls for suspension of TTIP talks over fea...   \n",
       "3  Blood Lions documentary exposes controversial ...   \n",
       "4  Thai Police Are Shocked, Shocked After Rihanna...   \n",
       "\n",
       "                                           Headline3  \\\n",
       "0  Police sealed off a hotel in Ankara on Sunday,...   \n",
       "1  b\"UK child protection database 'will be used t...   \n",
       "2  Netanyahu: Israel will fight racism - Ethiopia...   \n",
       "3  Saudi Arabia 'planning Nato-like military alli...   \n",
       "4  Lavabit comes back online for 96 hours to allo...   \n",
       "\n",
       "                                           Headline4  \\\n",
       "0  Car fires turning into a Dutch plague, 100s to...   \n",
       "1  b'The Puppet Masters Behind Georgia President ...   \n",
       "2  Boko Haram stoned captive girls to death as re...   \n",
       "3  Pakistan cricket captain Shahid Afridi accused...   \n",
       "4  Snowden leaks: David Cameron urges committee t...   \n",
       "\n",
       "                                           Headline5  \\\n",
       "0  Magnitude 5.6 / Shindo 5 earthquake shakes Iba...   \n",
       "1  b'2008 Globally the Coldest Year of the Centur...   \n",
       "2  Sexting could see teenagers branded as sex off...   \n",
       "3  Saudi Arabia-led coalition kills 41 civilians ...   \n",
       "4  Malala Yousafzai to get honorary Canadian citi...   \n",
       "\n",
       "                                           Headline6  \\\n",
       "0  Police in Colombia seize more than 8 tons of c...   \n",
       "1  b\"Iceland's Armed Forces Unveils Mecha-Bjrk [P...   \n",
       "2  The lower house of Frances Parliament overwhel...   \n",
       "3  NSW, Australia: Anti-coal seam gas protesters ...   \n",
       "4  BP oil spill: Ex-Halliburton manager pleads gu...   \n",
       "\n",
       "                                           Headline7  \\\n",
       "0  Google (GOOGL.O) faces a record antitrust fine...   \n",
       "1  b'Victims Of \"Nigerian Scams\" Giving Nigeria A...   \n",
       "2  Jewish students to protest violence by speakin...   \n",
       "3  Belgian police hunt gunman after Brussels anti...   \n",
       "4                 Dutch diplomat assaulted in Russia   \n",
       "\n",
       "                                           Headline8  \\\n",
       "0  China waging war against ancient superstitions...   \n",
       "1      b'Refugee camp in Darfur under direct attack'   \n",
       "2  UN: More than 200 young women rescued from Bok...   \n",
       "3  NASA will intentionally start a fire on a carg...   \n",
       "4  93 dead as 7.2 magnitude quake hits Philippine...   \n",
       "\n",
       "                                           Headline9  \\\n",
       "0  Erdoan pictured as Hitler on Turkish Embassy i...   \n",
       "1  b'Israel claims allowing an aid ship to reach ...   \n",
       "2  Canada's Trudeau vows to cut middle-class taxe...   \n",
       "3  North Korea Sentences US Tourist to 15 Years i...   \n",
       "4  Divers have recovered what may be a 570kg chun...   \n",
       "\n",
       "                                          Headline10  ...  \\\n",
       "0  India successfully test-fires indigenously dev...  ...   \n",
       "1      b' Israel releases 198 Palestinian prisoners'  ...   \n",
       "2  China is using Shanghai as a testing ground fo...  ...   \n",
       "3  Chinese website publishes, then pulls, explosi...  ...   \n",
       "4  Colombian Street Gangs Kidnap Girls and Auctio...  ...   \n",
       "\n",
       "                                          Headline16  \\\n",
       "0  An online al Qaeda magazine is calling for jih...   \n",
       "1  b\"Flashback: Naked, drunk, surrounded by sex t...   \n",
       "2  Prime Minister of Singapore shares his C++ cod...   \n",
       "3  Denmark world's happiest country, Burundi leas...   \n",
       "4  Iraq War death toll near 500K, new study estim...   \n",
       "\n",
       "                                          Headline17  \\\n",
       "0  North Korea releases Russian yacht - detention...   \n",
       "1  b'Let\\'s rewrite history :  A new historical c...   \n",
       "2  South African universities join academic boyco...   \n",
       "3  Rescuers: Female suicide bombers kill 22 at Ni...   \n",
       "4  Brazilian government to ditch Microsoft in fav...   \n",
       "\n",
       "                                          Headline18  \\\n",
       "0  Duterte vows to kill criminals and reintroduce...   \n",
       "1  b\"SHOCK! Amsterdam's Smoking Ban Doesn't Apply...   \n",
       "2  The world needs to triple its investments in c...   \n",
       "3  A powerful Syrian Kurdish political party is p...   \n",
       "4  Iraq war claimed half a million lives, peer-re...   \n",
       "\n",
       "                                          Headline19  \\\n",
       "0  Venezuelan President decrees emergency, seizes...   \n",
       "1  b'Pedophile attempts to assault and kidnap chi...   \n",
       "2  TransCanada Keystone 1 Pipeline Suffered Major...   \n",
       "3  The world's first solar airport no longer pays...   \n",
       "4  Brazilian judge rules in favour of farmers aga...   \n",
       "\n",
       "                                          Headline20  \\\n",
       "0  Luxembourg prosecutors seek jail time for whis...   \n",
       "1  b'Swiss engineers, a nuclear black market and ...   \n",
       "2  Fertilizer, Also Suited for Bombs, Flows to IS...   \n",
       "3  More than 40 civilians killed in Yemen market ...   \n",
       "4  The Canadian Government Is Spying on Behalf of...   \n",
       "\n",
       "                                          Headline21  \\\n",
       "0  Al Qaeda Turns to Syria, With a Plan to Challe...   \n",
       "1      b'Russia accused of violating ceasefire deal'   \n",
       "2  Jihadists destroy proposed world heritage site...   \n",
       "3  Canadian woman who successfully sued province ...   \n",
       "4  The number of cockroach farms in China is growing   \n",
       "\n",
       "                                          Headline22  \\\n",
       "0  Iran is arresting models who pose without head...   \n",
       "1  b\"N Korea's Kim died in 2003; replaced by look...   \n",
       "2  Qatar detained German reporters investigating ...   \n",
       "3  FIFA admits to World Cup hosting bribes, asks ...   \n",
       "4  France finds Church of Scientology guilty of \"...   \n",
       "\n",
       "                                          Headline23  \\\n",
       "0  Scientists Seek To Bring Dead Brains Back To Life   \n",
       "1                 b'Four killed in Kashmir protests'   \n",
       "2  China overtakes Mexico as top sender of immigr...   \n",
       "3  Brazil's ex-president Luiz Inacio Lula da Silv...   \n",
       "4  \"I just want to have a future.\" Anger in Franc...   \n",
       "\n",
       "                                          Headline24  \\\n",
       "0  Former CIA agent admits involvment in Nelson M...   \n",
       "1  b'Iraqi Teenage Girl Wearing Explosives Turns ...   \n",
       "2  Philippines' Most Wanted Terrorist Killed by B...   \n",
       "3  Netherlands votes to ban weapons exports to Sa...   \n",
       "4  Using military-grade helicopters, night-vision...   \n",
       "\n",
       "                                          Headline25  \n",
       "0  New move to impeach Tony Blair over Iraq War g...  \n",
       "1  b'Wealthy Mexicans, terrified of soaring kidna...  \n",
       "2  Canada poised to pass anti-terror legislation ...  \n",
       "3  Argentina sinks Chinese vessel, cites illegal ...  \n",
       "4  Jihadi Work Accident: Two Al-Shabaab Suicide B...  \n",
       "\n",
       "[5 rows x 25 columns]"
      ]
     },
     "execution_count": 5,
     "metadata": {},
     "output_type": "execute_result"
    }
   ],
   "source": [
    "stocks_df_test.head()"
   ]
  },
  {
   "cell_type": "code",
   "execution_count": 6,
   "id": "4fd31747",
   "metadata": {
    "colab": {
     "base_uri": "https://localhost:8080/"
    },
    "id": "4fd31747",
    "outputId": "9c6fe3a8-83a5-4eb7-d486-3f6a6d13fa1b",
    "scrolled": true
   },
   "outputs": [
    {
     "name": "stdout",
     "output_type": "stream",
     "text": [
      "<class 'pandas.core.frame.DataFrame'>\n",
      "RangeIndex: 1690 entries, 0 to 1689\n",
      "Data columns (total 26 columns):\n",
      " #   Column          Non-Null Count  Dtype \n",
      "---  ------          --------------  ----- \n",
      " 0   Closing Status  1690 non-null   int64 \n",
      " 1   Headline1       1690 non-null   object\n",
      " 2   Headline2       1690 non-null   object\n",
      " 3   Headline3       1687 non-null   object\n",
      " 4   Headline4       1690 non-null   object\n",
      " 5   Headline5       1690 non-null   object\n",
      " 6   Headline6       1690 non-null   object\n",
      " 7   Headline7       1690 non-null   object\n",
      " 8   Headline8       1690 non-null   object\n",
      " 9   Headline9       1690 non-null   object\n",
      " 10  Headline10      1690 non-null   object\n",
      " 11  Headline11      1687 non-null   object\n",
      " 12  Headline12      1690 non-null   object\n",
      " 13  Headline13      1690 non-null   object\n",
      " 14  Headline14      1690 non-null   object\n",
      " 15  Headline15      1690 non-null   object\n",
      " 16  Headline16      1690 non-null   object\n",
      " 17  Headline17      1690 non-null   object\n",
      " 18  Headline18      1690 non-null   object\n",
      " 19  Headline19      1690 non-null   object\n",
      " 20  Headline20      1690 non-null   object\n",
      " 21  Headline21      1690 non-null   object\n",
      " 22  Headline22      1690 non-null   object\n",
      " 23  Headline23      1689 non-null   object\n",
      " 24  Headline24      1690 non-null   object\n",
      " 25  Headline25      1690 non-null   object\n",
      "dtypes: int64(1), object(25)\n",
      "memory usage: 343.4+ KB\n"
     ]
    }
   ],
   "source": [
    "stocks_df_train.info()"
   ]
  },
  {
   "cell_type": "code",
   "execution_count": 7,
   "id": "36425b7e",
   "metadata": {
    "colab": {
     "base_uri": "https://localhost:8080/"
    },
    "id": "36425b7e",
    "outputId": "6283396c-ee06-4447-dd5c-b415de6f568c"
   },
   "outputs": [
    {
     "name": "stdout",
     "output_type": "stream",
     "text": [
      "<class 'pandas.core.frame.DataFrame'>\n",
      "RangeIndex: 299 entries, 0 to 298\n",
      "Data columns (total 25 columns):\n",
      " #   Column      Non-Null Count  Dtype \n",
      "---  ------      --------------  ----- \n",
      " 0   Headline1   299 non-null    object\n",
      " 1   Headline2   299 non-null    object\n",
      " 2   Headline3   299 non-null    object\n",
      " 3   Headline4   299 non-null    object\n",
      " 4   Headline5   299 non-null    object\n",
      " 5   Headline6   299 non-null    object\n",
      " 6   Headline7   299 non-null    object\n",
      " 7   Headline8   299 non-null    object\n",
      " 8   Headline9   299 non-null    object\n",
      " 9   Headline10  299 non-null    object\n",
      " 10  Headline11  299 non-null    object\n",
      " 11  Headline12  299 non-null    object\n",
      " 12  Headline13  299 non-null    object\n",
      " 13  Headline14  299 non-null    object\n",
      " 14  Headline15  299 non-null    object\n",
      " 15  Headline16  299 non-null    object\n",
      " 16  Headline17  299 non-null    object\n",
      " 17  Headline18  299 non-null    object\n",
      " 18  Headline19  299 non-null    object\n",
      " 19  Headline20  299 non-null    object\n",
      " 20  Headline21  299 non-null    object\n",
      " 21  Headline22  299 non-null    object\n",
      " 22  Headline23  299 non-null    object\n",
      " 23  Headline24  299 non-null    object\n",
      " 24  Headline25  299 non-null    object\n",
      "dtypes: object(25)\n",
      "memory usage: 58.5+ KB\n"
     ]
    }
   ],
   "source": [
    "stocks_df_test.info()"
   ]
  },
  {
   "cell_type": "code",
   "execution_count": 8,
   "id": "f02f3cf9",
   "metadata": {
    "colab": {
     "base_uri": "https://localhost:8080/"
    },
    "id": "f02f3cf9",
    "outputId": "5ba7a623-8cfd-4d16-a5b5-e43734fdb9aa",
    "scrolled": true
   },
   "outputs": [
    {
     "name": "stdout",
     "output_type": "stream",
     "text": [
      "Closing Status    0\n",
      "Headline1         0\n",
      "Headline2         0\n",
      "Headline3         3\n",
      "Headline4         0\n",
      "Headline5         0\n",
      "Headline6         0\n",
      "Headline7         0\n",
      "Headline8         0\n",
      "Headline9         0\n",
      "Headline10        0\n",
      "Headline11        3\n",
      "Headline12        0\n",
      "Headline13        0\n",
      "Headline14        0\n",
      "Headline15        0\n",
      "Headline16        0\n",
      "Headline17        0\n",
      "Headline18        0\n",
      "Headline19        0\n",
      "Headline20        0\n",
      "Headline21        0\n",
      "Headline22        0\n",
      "Headline23        1\n",
      "Headline24        0\n",
      "Headline25        0\n",
      "dtype: int64\n"
     ]
    }
   ],
   "source": [
    "#Checking the presence of missing values in the Training Dataset\n",
    "print(stocks_df_train.isnull().sum())\n",
    "\n",
    "#Headline 3, 11 and 23 present missing values"
   ]
  },
  {
   "cell_type": "code",
   "execution_count": 9,
   "id": "cd090895",
   "metadata": {
    "colab": {
     "base_uri": "https://localhost:8080/"
    },
    "id": "cd090895",
    "outputId": "71bb3ce5-fcc5-413f-988a-5dccaa628122"
   },
   "outputs": [
    {
     "name": "stdout",
     "output_type": "stream",
     "text": [
      "Headline1     0\n",
      "Headline2     0\n",
      "Headline3     0\n",
      "Headline4     0\n",
      "Headline5     0\n",
      "Headline6     0\n",
      "Headline7     0\n",
      "Headline8     0\n",
      "Headline9     0\n",
      "Headline10    0\n",
      "Headline11    0\n",
      "Headline12    0\n",
      "Headline13    0\n",
      "Headline14    0\n",
      "Headline15    0\n",
      "Headline16    0\n",
      "Headline17    0\n",
      "Headline18    0\n",
      "Headline19    0\n",
      "Headline20    0\n",
      "Headline21    0\n",
      "Headline22    0\n",
      "Headline23    0\n",
      "Headline24    0\n",
      "Headline25    0\n",
      "dtype: int64\n"
     ]
    }
   ],
   "source": [
    "#Checking the presence of missing values in the Test Dataset\n",
    "print(stocks_df_test.isnull().sum())"
   ]
  },
  {
   "cell_type": "code",
   "execution_count": 10,
   "id": "3f724cea",
   "metadata": {
    "colab": {
     "base_uri": "https://localhost:8080/"
    },
    "id": "3f724cea",
    "outputId": "6e3596c7-0113-4a93-e488-736f734e9a9c"
   },
   "outputs": [
    {
     "data": {
      "text/plain": [
       "1    902\n",
       "0    788\n",
       "Name: Closing Status, dtype: int64"
      ]
     },
     "execution_count": 10,
     "metadata": {},
     "output_type": "execute_result"
    }
   ],
   "source": [
    "#Checking how many Closing Status we have\n",
    "stocks_df_train['Closing Status'].value_counts()"
   ]
  },
  {
   "cell_type": "code",
   "execution_count": 11,
   "id": "055dad8b",
   "metadata": {
    "colab": {
     "base_uri": "https://localhost:8080/"
    },
    "id": "055dad8b",
    "outputId": "860f9cdf-b823-4d5c-e98f-556b34610874"
   },
   "outputs": [
    {
     "data": {
      "text/plain": [
       "1    0.533728\n",
       "0    0.466272\n",
       "Name: Closing Status, dtype: float64"
      ]
     },
     "execution_count": 11,
     "metadata": {},
     "output_type": "execute_result"
    }
   ],
   "source": [
    "#Checking how many Closing Status we have in %\n",
    "stocks_df_train['Closing Status'].value_counts(normalize='True') "
   ]
  },
  {
   "cell_type": "code",
   "execution_count": 12,
   "id": "e6cc1d19",
   "metadata": {
    "colab": {
     "base_uri": "https://localhost:8080/",
     "height": 371
    },
    "id": "e6cc1d19",
    "outputId": "45ca0cb9-029a-47b2-f1c2-5f82d7679e37"
   },
   "outputs": [
    {
     "data": {
      "text/plain": [
       "array([[<AxesSubplot:title={'center':'Closing Status'}>]], dtype=object)"
      ]
     },
     "execution_count": 12,
     "metadata": {},
     "output_type": "execute_result"
    },
    {
     "data": {
      "image/png": "[encoded data removed]",
      "text/plain": [
       "<Figure size 360x360 with 1 Axes>"
      ]
     },
     "metadata": {
      "needs_background": "light"
     },
     "output_type": "display_data"
    }
   ],
   "source": [
    "#Visualizing\n",
    "stocks_df_train.hist(column='Closing Status', bins=25, grid=False, figsize=(5,5), color='orange', rwidth=5)\n"
   ]
  },
  {
   "cell_type": "code",
   "execution_count": 13,
   "id": "798abe3a",
   "metadata": {
    "colab": {
     "base_uri": "https://localhost:8080/",
     "height": 282
    },
    "id": "798abe3a",
    "outputId": "dc6d0bfc-6000-4c90-dc77-1fb195067912",
    "scrolled": true
   },
   "outputs": [
    {
     "data": {
      "text/plain": [
       "<AxesSubplot:>"
      ]
     },
     "execution_count": 13,
     "metadata": {},
     "output_type": "execute_result"
    },
    {
     "data": {
      "image/png": "[encoded data removed]",
      "text/plain": [
       "<Figure size 432x288 with 1 Axes>"
      ]
     },
     "metadata": {
      "needs_background": "light"
     },
     "output_type": "display_data"
    }
   ],
   "source": [
    "stocks_df_train.boxplot(['Closing Status'])"
   ]
  },
  {
   "cell_type": "code",
   "execution_count": 14,
   "id": "291644f1",
   "metadata": {
    "colab": {
     "base_uri": "https://localhost:8080/"
    },
    "id": "291644f1",
    "outputId": "c3c06cac-234a-4d87-e788-86613786f5f4"
   },
   "outputs": [
    {
     "data": {
      "text/plain": [
       "count    1690.000000\n",
       "mean        0.533728\n",
       "std         0.499009\n",
       "min         0.000000\n",
       "25%         0.000000\n",
       "50%         1.000000\n",
       "75%         1.000000\n",
       "max         1.000000\n",
       "Name: Closing Status, dtype: float64"
      ]
     },
     "execution_count": 14,
     "metadata": {},
     "output_type": "execute_result"
    }
   ],
   "source": [
    "#Summary Statisticks\n",
    "stocks_df_train['Closing Status'].describe()"
   ]
  },
  {
   "cell_type": "markdown",
   "id": "43210d96",
   "metadata": {
    "id": "43210d96"
   },
   "source": [
    "### *Checking some statistics about the words that appear in the News Headlines*"
   ]
  },
  {
   "cell_type": "code",
   "execution_count": 15,
   "id": "8d101695",
   "metadata": {
    "colab": {
     "base_uri": "https://localhost:8080/",
     "height": 206
    },
    "id": "8d101695",
    "outputId": "841d05ef-12fc-49f3-a999-bfe9fa79b3d8"
   },
   "outputs": [
    {
     "data": {
      "text/html": [
       "<div>\n",
       "<style scoped>\n",
       "    .dataframe tbody tr th:only-of-type {\n",
       "        vertical-align: middle;\n",
       "    }\n",
       "\n",
       "    .dataframe tbody tr th {\n",
       "        vertical-align: top;\n",
       "    }\n",
       "\n",
       "    .dataframe thead th {\n",
       "        text-align: right;\n",
       "    }\n",
       "</style>\n",
       "<table border=\"1\" class=\"dataframe\">\n",
       "  <thead>\n",
       "    <tr style=\"text-align: right;\">\n",
       "      <th></th>\n",
       "      <th>Sum</th>\n",
       "      <th>word_count</th>\n",
       "    </tr>\n",
       "  </thead>\n",
       "  <tbody>\n",
       "    <tr>\n",
       "      <th>0</th>\n",
       "      <td>Milan court convicts Berlusconi of tax evasion...</td>\n",
       "      <td>590</td>\n",
       "    </tr>\n",
       "    <tr>\n",
       "      <th>1</th>\n",
       "      <td>Iraq Police Training: $200 Million Wasted On P...</td>\n",
       "      <td>468</td>\n",
       "    </tr>\n",
       "    <tr>\n",
       "      <th>2</th>\n",
       "      <td>Al Shabaab kidnaps, interrogates new Somali mi...</td>\n",
       "      <td>295</td>\n",
       "    </tr>\n",
       "    <tr>\n",
       "      <th>3</th>\n",
       "      <td>Sweden With Entitlements &amp;amp; Health Care Sur...</td>\n",
       "      <td>534</td>\n",
       "    </tr>\n",
       "    <tr>\n",
       "      <th>4</th>\n",
       "      <td>FIFA has banned Croatian defender Josip Simuni...</td>\n",
       "      <td>523</td>\n",
       "    </tr>\n",
       "  </tbody>\n",
       "</table>\n",
       "</div>"
      ],
      "text/plain": [
       "                                                 Sum  word_count\n",
       "0  Milan court convicts Berlusconi of tax evasion...         590\n",
       "1  Iraq Police Training: $200 Million Wasted On P...         468\n",
       "2  Al Shabaab kidnaps, interrogates new Somali mi...         295\n",
       "3  Sweden With Entitlements &amp; Health Care Sur...         534\n",
       "4  FIFA has banned Croatian defender Josip Simuni...         523"
      ]
     },
     "execution_count": 15,
     "metadata": {},
     "output_type": "execute_result"
    }
   ],
   "source": [
    "#Creating New Dataframe\n",
    "stocks_df_train2 = stocks_df_train\n",
    "\n",
    "#Appending all the Headlines into 1 columns\n",
    "stocks_df_train3 = []\n",
    "for row in range(0,1690):\n",
    "    stocks_df_train3.append(' '.join(str(x) for x in stocks_df_train2.iloc[row,1:25]))\n",
    "\n",
    "#Adding this column to dataframe\n",
    "stocks_df_train2['Sum'] = stocks_df_train3\n",
    "\n",
    "#Creating word count column and stripping it\n",
    "stocks_df_train2['word_count']  = stocks_df_train2['Sum'].apply(lambda x: len(str(x).split(\" \")))\n",
    "stocks_df_train2[['Sum','word_count']].head()"
   ]
  },
  {
   "cell_type": "code",
   "execution_count": 16,
   "id": "4bb32ddb",
   "metadata": {
    "colab": {
     "base_uri": "https://localhost:8080/"
    },
    "id": "4bb32ddb",
    "outputId": "2b5a67a3-a977-42c5-c4b3-d49463261d00"
   },
   "outputs": [
    {
     "data": {
      "text/plain": [
       "count    1690.000000\n",
       "mean      426.224260\n",
       "std        70.295393\n",
       "min       215.000000\n",
       "25%       380.000000\n",
       "50%       427.000000\n",
       "75%       472.000000\n",
       "max       660.000000\n",
       "Name: word_count, dtype: float64"
      ]
     },
     "execution_count": 16,
     "metadata": {},
     "output_type": "execute_result"
    }
   ],
   "source": [
    "stocks_df_train2.word_count.describe()"
   ]
  },
  {
   "cell_type": "code",
   "execution_count": 17,
   "id": "a28a27a4",
   "metadata": {
    "colab": {
     "base_uri": "https://localhost:8080/",
     "height": 337
    },
    "id": "a28a27a4",
    "outputId": "fb3f426a-ec6e-4697-e00c-8410bf21fdf0"
   },
   "outputs": [
    {
     "data": {
      "text/plain": [
       "<AxesSubplot:>"
      ]
     },
     "execution_count": 17,
     "metadata": {},
     "output_type": "execute_result"
    },
    {
     "data": {
      "image/png": "[encoded data removed]",
      "text/plain": [
       "<Figure size 360x360 with 1 Axes>"
      ]
     },
     "metadata": {
      "needs_background": "light"
     },
     "output_type": "display_data"
    }
   ],
   "source": [
    "stocks_df_train2['word_count'].hist(figsize=(5,5), color='orange', rwidth=5, bins=10)"
   ]
  },
  {
   "cell_type": "code",
   "execution_count": 18,
   "id": "634a8665",
   "metadata": {
    "colab": {
     "base_uri": "https://localhost:8080/"
    },
    "id": "634a8665",
    "outputId": "51e21505-803c-47c9-9f91-cb270250e9d5"
   },
   "outputs": [
    {
     "data": {
      "text/plain": [
       "['Milan',\n",
       " 'court',\n",
       " 'convicts',\n",
       " 'Berlusconi',\n",
       " 'of',\n",
       " 'tax',\n",
       " 'evasion,',\n",
       " 'gives',\n",
       " '4-year',\n",
       " 'sentence',\n",
       " 'Suicide',\n",
       " 'bomber',\n",
       " 'kills',\n",
       " '20',\n",
       " 'in',\n",
       " 'Afghan',\n",
       " 'mosque',\n",
       " 'After',\n",
       " 'the',\n",
       " 'biggest']"
      ]
     },
     "execution_count": 18,
     "metadata": {},
     "output_type": "execute_result"
    }
   ],
   "source": [
    "all_words = ' '.join(stocks_df_train2['Sum']).split()  #join all words into a single variable\n",
    "\n",
    "all_words[0:20] #example of the first 20 words"
   ]
  },
  {
   "cell_type": "code",
   "execution_count": 19,
   "id": "8d85ee55",
   "metadata": {
    "colab": {
     "base_uri": "https://localhost:8080/"
    },
    "id": "8d85ee55",
    "outputId": "e58527c7-4e78-4bff-f530-9107574f3851"
   },
   "outputs": [
    {
     "data": {
      "text/plain": [
       "716584"
      ]
     },
     "execution_count": 19,
     "metadata": {},
     "output_type": "execute_result"
    }
   ],
   "source": [
    "len(all_words)"
   ]
  },
  {
   "cell_type": "code",
   "execution_count": 20,
   "id": "439572d8",
   "metadata": {
    "colab": {
     "base_uri": "https://localhost:8080/"
    },
    "id": "439572d8",
    "outputId": "b7d13208-e191-4fdf-8487-bf0b3dcfc2df"
   },
   "outputs": [
    {
     "data": {
      "text/plain": [
       "the     21949\n",
       "to      20949\n",
       "of      18364\n",
       "in      17716\n",
       "a       11411\n",
       "and     10036\n",
       "for      7357\n",
       "on       6144\n",
       "is       4968\n",
       "-        4071\n",
       "by       4057\n",
       "that     3870\n",
       "has      3680\n",
       "with     3441\n",
       "from     3410\n",
       "dtype: int64"
      ]
     },
     "execution_count": 20,
     "metadata": {},
     "output_type": "execute_result"
    }
   ],
   "source": [
    "freq = pd.Series(all_words).value_counts() #transform list of words into pandas series to count the freq of each word\n",
    "freq[0:15]"
   ]
  },
  {
   "cell_type": "code",
   "execution_count": 21,
   "id": "cd8d0872",
   "metadata": {
    "id": "cd8d0872"
   },
   "outputs": [],
   "source": [
    "# Majority of the words are stopwords"
   ]
  },
  {
   "cell_type": "code",
   "execution_count": 22,
   "id": "0f1db205",
   "metadata": {
    "colab": {
     "base_uri": "https://localhost:8080/",
     "height": 292
    },
    "id": "0f1db205",
    "outputId": "e84b2bb8-f313-421f-f563-5ce48ef9e462"
   },
   "outputs": [
    {
     "data": {
      "image/png": "[encoded data removed]",
      "text/plain": [
       "<Figure size 432x288 with 1 Axes>"
      ]
     },
     "metadata": {
      "needs_background": "light"
     },
     "output_type": "display_data"
    }
   ],
   "source": [
    "x_labels = freq.index[0:10]\n",
    "values = freq[:10]\n",
    "plt.bar(x_labels, values, align='center', alpha=0.5)\n",
    "plt.ylabel('Frequencies')\n",
    "plt.title('Words\\' Frequency')\n",
    "plt.xticks(rotation=45)\n",
    "plt.show()"
   ]
  },
  {
   "cell_type": "markdown",
   "id": "bba9fece",
   "metadata": {
    "id": "bba9fece"
   },
   "source": [
    "# **2. Corpus Split (train and test sets)**"
   ]
  },
  {
   "cell_type": "code",
   "execution_count": 23,
   "id": "ba9de478",
   "metadata": {
    "id": "ba9de478"
   },
   "outputs": [],
   "source": [
    "X_train, X_test, y_train, y_test = train_test_split(stocks_df_train2['Sum'], stocks_df_train2['Closing Status'], test_size=0.25, random_state=4)"
   ]
  },
  {
   "cell_type": "code",
   "execution_count": 24,
   "id": "5421d4d1",
   "metadata": {
    "colab": {
     "base_uri": "https://localhost:8080/"
    },
    "id": "5421d4d1",
    "outputId": "746c3839-17fe-48c5-cb21-6e21f6230ce5"
   },
   "outputs": [
    {
     "data": {
      "text/plain": [
       "138    Students storm the Executive Yuan (executive b...\n",
       "354    b'McKinney released, returning to United State...\n",
       "877    b'Could we finally see a thawing of relations ...\n",
       "420    b'7 children, 2 adults hacked to death with ki...\n",
       "930    THE US consulate in Melbourne has warned citiz...\n",
       "Name: Sum, dtype: object"
      ]
     },
     "execution_count": 24,
     "metadata": {},
     "output_type": "execute_result"
    }
   ],
   "source": [
    "X_train.head()"
   ]
  },
  {
   "cell_type": "code",
   "execution_count": 25,
   "id": "1d892271",
   "metadata": {
    "colab": {
     "base_uri": "https://localhost:8080/"
    },
    "id": "1d892271",
    "outputId": "c90148ac-0ec3-4126-98c8-d465bdf05549"
   },
   "outputs": [
    {
     "data": {
      "text/plain": [
       "(1267, 423, 1267, 423)"
      ]
     },
     "execution_count": 25,
     "metadata": {},
     "output_type": "execute_result"
    }
   ],
   "source": [
    "len(X_train), len(X_test), len(y_train), len(y_test)"
   ]
  },
  {
   "cell_type": "markdown",
   "id": "532d00bf",
   "metadata": {
    "id": "532d00bf"
   },
   "source": [
    "# **3. Data Preprocessing**"
   ]
  },
  {
   "cell_type": "markdown",
   "id": "9c01f8d3",
   "metadata": {
    "id": "9c01f8d3"
   },
   "source": [
    "### *Preprocessing Methods*"
   ]
  },
  {
   "cell_type": "code",
   "execution_count": 26,
   "id": "9733c545",
   "metadata": {
    "id": "9733c545"
   },
   "outputs": [],
   "source": [
    "stop = set(stopwords.words('english'))\n",
    "stemmer = SnowballStemmer('english')\n",
    "lemma = WordNetLemmatizer()"
   ]
  },
  {
   "cell_type": "code",
   "execution_count": 27,
   "id": "69e2feee",
   "metadata": {},
   "outputs": [],
   "source": [
    "def pre_clean(text_list):\n",
    "    \n",
    "    updates = []\n",
    "    \n",
    "    for j in tqdm(text_list):\n",
    "        \n",
    "        text = j\n",
    "        \n",
    "        #LOWERCASE TEXT\n",
    "        text = text.lower()\n",
    "        \n",
    "        #REMOVE IDENTIFIED ISSUES IN THE CORPUS\n",
    "        text = re.sub(\"b\\\"\", \"\", text)\n",
    "        text = re.sub(\"b'\", \"\", text)\n",
    "        text = re.sub(\"u.s.\",\"us\", text)\n",
    "        text = re.sub(\"u.s\",\"us\", text)\n",
    "        text = re.sub(\"us.\",\"us\", text)\n",
    "        text = re.sub(\"u.k.\",\"uk\", text)\n",
    "        text = re.sub(\"u.k\",\"uk\", text)\n",
    "        text = re.sub(\"uk.\",\"uk\", text)\n",
    "        text = re.sub(\"u.n.\",\"un\", text)\n",
    "        text = re.sub(\"u.n\",\"un\", text)\n",
    "        text = re.sub(\"un.\",\"un\", text)\n",
    "        \n",
    "\n",
    "\n",
    "        updates.append(text)\n",
    "        \n",
    "    return updates"
   ]
  },
  {
   "cell_type": "code",
   "execution_count": 28,
   "id": "3b0e4fbb",
   "metadata": {},
   "outputs": [
    {
     "name": "stderr",
     "output_type": "stream",
     "text": [
      "100%|██████████| 1267/1267 [00:00<00:00, 28788.65it/s]\n"
     ]
    }
   ],
   "source": [
    "X_train_pre_clean = pre_clean(X_train)\n"
   ]
  },
  {
   "cell_type": "code",
   "execution_count": 29,
   "id": "bb581a6f",
   "metadata": {},
   "outputs": [
    {
     "name": "stderr",
     "output_type": "stream",
     "text": [
      "100%|██████████| 423/423 [00:00<00:00, 28195.77it/s]\n"
     ]
    }
   ],
   "source": [
    "X_test_pre_clean = pre_clean(X_test)"
   ]
  },
  {
   "cell_type": "code",
   "execution_count": 30,
   "id": "9706750b",
   "metadata": {
    "id": "9706750b"
   },
   "outputs": [],
   "source": [
    "def clean(text_list):\n",
    "    \n",
    "    updates = []\n",
    "    \n",
    "    for j in tqdm(text_list):\n",
    "        \n",
    "        text = j\n",
    "        \n",
    "      \n",
    "        #REMOVE NUMERICAL DATA and PUNCTUATION\n",
    "        text = re.sub(\"[^a-zA-Z]\",\" \", text )\n",
    "\n",
    "        #REMOVE STOPWORDS\n",
    "        text = \" \".join([word for word in text.split() if word not in stop])\n",
    "                \n",
    "        #Lemmatize\n",
    "        text = \" \".join(lemma.lemmatize(word) for word in text.split())\n",
    "        \n",
    "        #Stemming\n",
    "        text = \" \".join(stemmer.stem(word) for word in text.split())\n",
    "            \n",
    "        updates.append(text)\n",
    "        \n",
    "    return updates"
   ]
  },
  {
   "cell_type": "code",
   "execution_count": 31,
   "id": "21c8ac35",
   "metadata": {
    "colab": {
     "base_uri": "https://localhost:8080/"
    },
    "id": "21c8ac35",
    "outputId": "efcd5abd-c8d2-4352-f10e-2b0d8cdab584"
   },
   "outputs": [
    {
     "name": "stderr",
     "output_type": "stream",
     "text": [
      "100%|██████████| 1267/1267 [00:04<00:00, 257.37it/s]\n"
     ]
    }
   ],
   "source": [
    "X_train_clean = clean(X_train_pre_clean)"
   ]
  },
  {
   "cell_type": "code",
   "execution_count": 32,
   "id": "999d8ff7",
   "metadata": {
    "colab": {
     "base_uri": "https://localhost:8080/"
    },
    "id": "999d8ff7",
    "outputId": "ca3b4c07-31a1-4165-a62a-22147ad28c62"
   },
   "outputs": [
    {
     "name": "stderr",
     "output_type": "stream",
     "text": [
      "100%|██████████| 423/423 [00:01<00:00, 331.00it/s]\n"
     ]
    }
   ],
   "source": [
    "X_test_clean = clean(X_test_pre_clean)"
   ]
  },
  {
   "cell_type": "code",
   "execution_count": 33,
   "id": "4bcb834f",
   "metadata": {
    "colab": {
     "base_uri": "https://localhost:8080/",
     "height": 105
    },
    "id": "4bcb834f",
    "outputId": "79809f85-f9b9-4bc3-be0c-d3874cd9446e"
   },
   "outputs": [
    {
     "data": {
      "text/plain": [
       "'greek pull fun bank emerg cabinet name iran hang israel spi nuclear scientist kill thoun flee congo battl renegad general reuter lead italian unvers switch teach english languag burma vow ceas buy weapon north korea greek withdraw million day begin runon bank bosnian command mladic led ethnic cleans war crime trial told face coun war crime amp crime human includ genocid connect brutal bosnian war call accust monstrous amp enter guilti plea exclusv china pus north korea drop nuclear test plan sourc year old schoolgirl die doctor mistook tuberculosi lovesick telegraph major mexican want ushelp drug war want usmilitari interven mexican soil victoria grant hit lectur circuit explain canadian bank fraud g report detail mass violat right polic say excess forc usd toronto search remain teenag girl miss decad italian polic open vatican own tomb mobster enrico de pedi box bone foun inter corps deepen mysteri chines offici usor america ausralia cannot juggl relationship unt state china indefinit mu choos godfath protect accord promin chines defenc strategist francoi holland new french presid gt enemi world financ bank runi develop greec million withdrawn greek bank sinc may th elect suprem court mull manga child porn appeal high public last appeal simon lunstrm swedish translat japanes manga comic convict child pornographi crime brought sweden suprem court hgsta domstolen wednesday vatican offici leader scandal plagu legionari christ religiousord knew famouspriest father child mani month acknowledg week indonesia cancel ladi gaga concert becaus vulgar singer envoy devil child spread satan teach european helicopt gusp attack pirat base somali coast tusi destroy five speedboat first airborn strike land anti piraci forc greec brink collaps europ financi crisi lurch periloun phase dire predict emerg collaps greec economi runon bank bring inevit end membership euro german man alleg subject extraordinari rendit cia taken case european court human right israel interior minist african migrant jail pirat bay uner ddos attack ukwn enemi'"
      ]
     },
     "execution_count": 33,
     "metadata": {},
     "output_type": "execute_result"
    }
   ],
   "source": [
    "X_train_clean[7] #example"
   ]
  },
  {
   "cell_type": "code",
   "execution_count": 34,
   "id": "0999525d",
   "metadata": {
    "colab": {
     "base_uri": "https://localhost:8080/",
     "height": 105
    },
    "id": "0999525d",
    "outputId": "31b93882-28f6-4f6a-e54b-47697a91b040"
   },
   "outputs": [
    {
     "data": {
      "text/plain": [
       "'iceland econom polit futur hang balanc head toward referendum compens britain netherland money lost collaps iceland bank bishop ask parishion cash help pay abus claim first ausralia like video game like real game far go go uscongression panel describ kill armenian tukh forc world war genocid despit white hous object uspanel armenia kill genocid earthquk hit taiwan time shade watt itali hit new outbreak race riot egyptian man stab death milan backlash simon singh libel case pushiropractor rope one four chiropractor britain uner investig result campaign singh support wow amaz pic color india six year ago claim ususd white phosphorousand deplet uranium fallujah today disturb larg number case birth defect mexico citi see gay marriag law dutch anti islam leader geert wilder major winner local elect refus electron strip search airport without detain saudi woman file harass claim saudi arabia without accompani male relat sentenc lash month jail disturb stori falluja birth defect divorc puberti wtf birth defect risen sinc usfalluja oper alway felt bad think scam look like right million ethiopian famin aid usd buy weapon china human flesh search engin form onlin vigilant jusic internet usr hun punsh peopl attract wrath north korean man execut make cell phone call armenia kill call genocid nhous panel anger tuk obama call kill genocid silent rebellion begin woman refus full bodi scan manchest give flight retain right privaci like harvest organ scandal israel keep deni unil someon govern come clean next year say practic stop year ago mean go ben gurion airport arab friend'"
      ]
     },
     "execution_count": 34,
     "metadata": {},
     "output_type": "execute_result"
    }
   ],
   "source": [
    "X_train_clean[11] #example"
   ]
  },
  {
   "cell_type": "markdown",
   "id": "9ddc6723",
   "metadata": {
    "id": "9ddc6723"
   },
   "source": [
    "### *Checking new statistics about the words, after the \"cleaning\"*"
   ]
  },
  {
   "cell_type": "code",
   "execution_count": 35,
   "id": "b18723d9",
   "metadata": {
    "colab": {
     "base_uri": "https://localhost:8080/",
     "height": 206
    },
    "id": "b18723d9",
    "outputId": "6cc670a8-07be-4dbb-9496-af08d5663e6d"
   },
   "outputs": [
    {
     "data": {
      "text/html": [
       "<div>\n",
       "<style scoped>\n",
       "    .dataframe tbody tr th:only-of-type {\n",
       "        vertical-align: middle;\n",
       "    }\n",
       "\n",
       "    .dataframe tbody tr th {\n",
       "        vertical-align: top;\n",
       "    }\n",
       "\n",
       "    .dataframe thead th {\n",
       "        text-align: right;\n",
       "    }\n",
       "</style>\n",
       "<table border=\"1\" class=\"dataframe\">\n",
       "  <thead>\n",
       "    <tr style=\"text-align: right;\">\n",
       "      <th></th>\n",
       "      <th>Sum</th>\n",
       "      <th>word_count</th>\n",
       "    </tr>\n",
       "  </thead>\n",
       "  <tbody>\n",
       "    <tr>\n",
       "      <th>0</th>\n",
       "      <td>student storm execut yunexecut branch gvmt esc...</td>\n",
       "      <td>233</td>\n",
       "    </tr>\n",
       "    <tr>\n",
       "      <th>1</th>\n",
       "      <td>mckinney releas retun unt state programm steal...</td>\n",
       "      <td>199</td>\n",
       "    </tr>\n",
       "    <tr>\n",
       "      <th>2</th>\n",
       "      <td>could final see thaw relat north korea ukto sh...</td>\n",
       "      <td>265</td>\n",
       "    </tr>\n",
       "    <tr>\n",
       "      <th>3</th>\n",
       "      <td>child adult hack death kitchen cleaver china k...</td>\n",
       "      <td>266</td>\n",
       "    </tr>\n",
       "    <tr>\n",
       "      <th>4</th>\n",
       "      <td>usconsul melbounha warn citizen terrorist atta...</td>\n",
       "      <td>330</td>\n",
       "    </tr>\n",
       "  </tbody>\n",
       "</table>\n",
       "</div>"
      ],
      "text/plain": [
       "                                                 Sum  word_count\n",
       "0  student storm execut yunexecut branch gvmt esc...         233\n",
       "1  mckinney releas retun unt state programm steal...         199\n",
       "2  could final see thaw relat north korea ukto sh...         265\n",
       "3  child adult hack death kitchen cleaver china k...         266\n",
       "4  usconsul melbounha warn citizen terrorist atta...         330"
      ]
     },
     "execution_count": 35,
     "metadata": {},
     "output_type": "execute_result"
    }
   ],
   "source": [
    "#Creating new X_train to check word statistics of the \"cleaned\" comments \n",
    "X_train_clean2 = pd.DataFrame(X_train_clean)\n",
    "\n",
    "#Substitute axis name to Headline1\n",
    "X_train_clean2 = X_train_clean2.set_axis(['Sum'], axis=1, inplace=False)\n",
    "\n",
    "#Create Word Count column with the word counts of each day\n",
    "X_train_clean2['word_count']  = X_train_clean2['Sum'].apply(lambda x: len(str(x).split(\" \")))\n",
    "X_train_clean2[['Sum','word_count']].head()"
   ]
  },
  {
   "cell_type": "code",
   "execution_count": 36,
   "id": "df2eef23",
   "metadata": {
    "colab": {
     "base_uri": "https://localhost:8080/"
    },
    "id": "df2eef23",
    "outputId": "a144401a-6a86-452b-db31-902933e5c68c"
   },
   "outputs": [
    {
     "data": {
      "text/plain": [
       "count    1267.000000\n",
       "mean      275.665351\n",
       "std        43.310008\n",
       "min       152.000000\n",
       "25%       248.000000\n",
       "50%       278.000000\n",
       "75%       303.500000\n",
       "max       419.000000\n",
       "Name: word_count, dtype: float64"
      ]
     },
     "execution_count": 36,
     "metadata": {},
     "output_type": "execute_result"
    }
   ],
   "source": [
    "X_train_clean2.word_count.describe()\n"
   ]
  },
  {
   "cell_type": "code",
   "execution_count": 37,
   "id": "6d33ee1b",
   "metadata": {
    "colab": {
     "base_uri": "https://localhost:8080/",
     "height": 282
    },
    "id": "6d33ee1b",
    "outputId": "3ac1abe1-5297-47c3-8b7d-bcc8cbb5b887"
   },
   "outputs": [
    {
     "data": {
      "text/plain": [
       "<AxesSubplot:>"
      ]
     },
     "execution_count": 37,
     "metadata": {},
     "output_type": "execute_result"
    },
    {
     "data": {
      "image/png": "[encoded data removed]",
      "text/plain": [
       "<Figure size 432x288 with 1 Axes>"
      ]
     },
     "metadata": {
      "needs_background": "light"
     },
     "output_type": "display_data"
    }
   ],
   "source": [
    "X_train_clean2['word_count'].hist()\n"
   ]
  },
  {
   "cell_type": "code",
   "execution_count": 38,
   "id": "bb84f2a3",
   "metadata": {
    "id": "bb84f2a3"
   },
   "outputs": [],
   "source": [
    "all_words = ' '.join(X_train_clean2['Sum']).split()  #join all words into a single variable"
   ]
  },
  {
   "cell_type": "code",
   "execution_count": 39,
   "id": "407b26ae",
   "metadata": {
    "colab": {
     "base_uri": "https://localhost:8080/"
    },
    "id": "407b26ae",
    "outputId": "cb8c5a57-b423-4362-b16e-3b2220ad404a"
   },
   "outputs": [
    {
     "data": {
      "text/plain": [
       "349268"
      ]
     },
     "execution_count": 39,
     "metadata": {},
     "output_type": "execute_result"
    }
   ],
   "source": [
    "len(all_words)"
   ]
  },
  {
   "cell_type": "code",
   "execution_count": 40,
   "id": "d5dac3c7",
   "metadata": {
    "colab": {
     "base_uri": "https://localhost:8080/",
     "height": 321
    },
    "id": "d5dac3c7",
    "outputId": "b5f309d7-eaad-44df-a313-03bd013a030e"
   },
   "outputs": [
    {
     "data": {
      "image/png": "[encoded data removed]",
      "text/plain": [
       "<Figure size 432x288 with 1 Axes>"
      ]
     },
     "metadata": {
      "needs_background": "light"
     },
     "output_type": "display_data"
    }
   ],
   "source": [
    "freq = pd.Series(all_words).value_counts() #transform list of words into pandas series to count the freq of each word\n",
    "\n",
    "x_labels = freq.index[0:15]\n",
    "values = freq[:15]\n",
    "plt.bar(x_labels, values, align='center', alpha=0.5)\n",
    "plt.ylabel('Frequencies')\n",
    "plt.title('Words\\' Frequency')\n",
    "plt.xticks(rotation=45)\n",
    "plt.show()"
   ]
  },
  {
   "cell_type": "markdown",
   "id": "f1c03dcd",
   "metadata": {
    "id": "f1c03dcd"
   },
   "source": [
    "# **4. Feature Engineering**"
   ]
  },
  {
   "cell_type": "markdown",
   "id": "l0XgJJvzdme9",
   "metadata": {
    "id": "l0XgJJvzdme9"
   },
   "source": [
    "### *BoW*"
   ]
  },
  {
   "cell_type": "code",
   "execution_count": 41,
   "id": "iJSAbGX5eFbi",
   "metadata": {
    "colab": {
     "base_uri": "https://localhost:8080/"
    },
    "id": "iJSAbGX5eFbi",
    "outputId": "7efe0e29-e608-45bc-ddf3-f1cf53d74455"
   },
   "outputs": [
    {
     "name": "stdout",
     "output_type": "stream",
     "text": [
      "[[0 0 0 ... 0 0 0]\n",
      " [0 0 0 ... 0 0 0]\n",
      " [0 0 0 ... 0 0 0]]\n"
     ]
    }
   ],
   "source": [
    "bow = CountVectorizer(binary=True)\n",
    "\n",
    "#Defining independent variables\n",
    "X1 = bow.fit_transform(X_train_clean)\n",
    "\n",
    "print(X1[10:13].toarray())"
   ]
  },
  {
   "cell_type": "code",
   "execution_count": 42,
   "id": "e4gagVN9euil",
   "metadata": {
    "colab": {
     "base_uri": "https://localhost:8080/"
    },
    "id": "e4gagVN9euil",
    "outputId": "e30ffe27-6b1f-4bb4-a1e2-dc6c83419065"
   },
   "outputs": [
    {
     "name": "stdout",
     "output_type": "stream",
     "text": [
      "['untextbook', 'unth', 'unthat', 'untheir', 'unthem', 'unther', 'unthic', 'unthreat', 'unthreaten', 'unti', 'untini', 'untisa', 'unto', 'untold', 'untoo', 'untortur', 'untradit', 'untreati', 'untribunl', 'untroop', 'untrunid', 'unublish']\n"
     ]
    },
    {
     "name": "stderr",
     "output_type": "stream",
     "text": [
      "C:\\Users\\lotar\\anaconda3\\lib\\site-packages\\sklearn\\utils\\deprecation.py:87: FutureWarning: Function get_feature_names is deprecated; get_feature_names is deprecated in 1.0 and will be removed in 1.2. Please use get_feature_names_out instead.\n",
      "  warnings.warn(msg, category=FutureWarning)\n"
     ]
    }
   ],
   "source": [
    "print(bow.get_feature_names()[20000:20022])"
   ]
  },
  {
   "cell_type": "code",
   "execution_count": 43,
   "id": "z-Gngro99LfD",
   "metadata": {
    "colab": {
     "base_uri": "https://localhost:8080/"
    },
    "id": "z-Gngro99LfD",
    "outputId": "73ec54a8-ab82-4bae-9719-ce45415ebb77"
   },
   "outputs": [
    {
     "data": {
      "text/plain": [
       "1267"
      ]
     },
     "execution_count": 43,
     "metadata": {},
     "output_type": "execute_result"
    }
   ],
   "source": [
    "#Defining dependent variable\n",
    "y = np.array(y_train)\n",
    "len(y)"
   ]
  },
  {
   "cell_type": "markdown",
   "id": "XjMTPO_3sYca",
   "metadata": {
    "id": "XjMTPO_3sYca"
   },
   "source": [
    "### *TF-IDF*"
   ]
  },
  {
   "cell_type": "code",
   "execution_count": 44,
   "id": "PLEFm-7vsc5Q",
   "metadata": {
    "id": "PLEFm-7vsc5Q"
   },
   "outputs": [],
   "source": [
    "tfidf = TfidfVectorizer(max_df=0.8, ngram_range=(1,2))  #If a word appears at least 80% in docs removes and sequences of 2 words"
   ]
  },
  {
   "cell_type": "code",
   "execution_count": 45,
   "id": "SPdzzy1lscLA",
   "metadata": {
    "id": "SPdzzy1lscLA"
   },
   "outputs": [],
   "source": [
    "#Defining independent variables\n",
    "X2 = tfidf.fit_transform(X_train_clean) #Fit and transform vectorizer to clean text. Create BoW space. Each line is a document"
   ]
  },
  {
   "cell_type": "code",
   "execution_count": 46,
   "id": "ViuOxFHUsrph",
   "metadata": {
    "colab": {
     "base_uri": "https://localhost:8080/"
    },
    "id": "ViuOxFHUsrph",
    "outputId": "f3d655b3-801f-496d-b57e-f86afbb2b3c4"
   },
   "outputs": [
    {
     "name": "stdout",
     "output_type": "stream",
     "text": [
      "                  TF-IDF\n",
      "ruksar          0.120399\n",
      "annex           0.084900\n",
      "polio           0.077761\n",
      "crimea          0.072408\n",
      "mh              0.072408\n",
      "ru              0.069486\n",
      "escal           0.067150\n",
      "trap relat      0.060200\n",
      "rd militari     0.060200\n",
      "pm next         0.060200\n",
      "founer peter    0.060200\n",
      "taiwan ebola    0.060200\n",
      "take rd         0.060200\n",
      "dozen spread    0.060200\n",
      "india beat      0.060200\n",
      "date taiwan     0.060200\n",
      "halt arm        0.060200\n",
      "recov object    0.060200\n",
      "armi rio        0.060200\n",
      "runhoney trap   0.060200\n",
      "announ support  0.060200\n",
      "share bedroom   0.060200\n",
      "spread capit    0.060200\n",
      "counri ever     0.060200\n",
      "sweden mi       0.060200\n"
     ]
    }
   ],
   "source": [
    "#TF-IDF score\n",
    "\n",
    "df = pd.DataFrame(X2[0].T.todense(), index=tfidf.get_feature_names_out(), columns=[\"TF-IDF\"])\n",
    "df = df.sort_values('TF-IDF', ascending=False)\n",
    "print (df.head(25))"
   ]
  },
  {
   "cell_type": "markdown",
   "id": "Poj5iy92t_7L",
   "metadata": {
    "id": "Poj5iy92t_7L"
   },
   "source": [
    "# **5. Classification Models**"
   ]
  },
  {
   "cell_type": "markdown",
   "id": "795mCwNDB7fV",
   "metadata": {
    "id": "795mCwNDB7fV"
   },
   "source": [
    "## **KNN** - BoW"
   ]
  },
  {
   "cell_type": "markdown",
   "id": "MPllxf09IGKp",
   "metadata": {
    "id": "MPllxf09IGKp"
   },
   "source": [
    "##### *Train Set*"
   ]
  },
  {
   "cell_type": "code",
   "execution_count": 47,
   "id": "ONCK6vA89LUj",
   "metadata": {
    "colab": {
     "base_uri": "https://localhost:8080/"
    },
    "id": "ONCK6vA89LUj",
    "outputId": "cd94d6fd-c021-469e-addb-eb9574d2c1af"
   },
   "outputs": [
    {
     "data": {
      "text/plain": [
       "KNeighborsClassifier(metric='cosine', n_neighbors=10, weights='distance')"
      ]
     },
     "execution_count": 47,
     "metadata": {},
     "output_type": "execute_result"
    }
   ],
   "source": [
    "#Train Classifier\n",
    "modelknn = KNeighborsClassifier(n_neighbors = 10, metric = 'cosine', weights = 'distance')\n",
    "\n",
    "#Fitting the model\n",
    "modelknn.fit(X1,y)"
   ]
  },
  {
   "cell_type": "markdown",
   "id": "f2AFcJdIIbiR",
   "metadata": {
    "id": "f2AFcJdIIbiR"
   },
   "source": [
    "##### *Test Set*"
   ]
  },
  {
   "cell_type": "code",
   "execution_count": 48,
   "id": "m07F6mpJIEEa",
   "metadata": {
    "id": "m07F6mpJIEEa"
   },
   "outputs": [],
   "source": [
    "#Defining the independent and dependent variables\n",
    "X_test1 = bow.transform(X_test_clean)\n",
    "y_test1 = np.array(y_test)\n",
    "\n",
    "#Predicting for test set\n",
    "y_pred1 = modelknn.predict(X_test1)\n"
   ]
  },
  {
   "cell_type": "markdown",
   "id": "3Aym4_RgNpn1",
   "metadata": {
    "id": "3Aym4_RgNpn1"
   },
   "source": [
    "### Evaluation"
   ]
  },
  {
   "cell_type": "code",
   "execution_count": 49,
   "id": "oQYRFp-UID0a",
   "metadata": {
    "colab": {
     "base_uri": "https://localhost:8080/"
    },
    "id": "oQYRFp-UID0a",
    "outputId": "e544cda6-e286-410a-fd0a-289f73c2ad84"
   },
   "outputs": [
    {
     "data": {
      "text/plain": [
       "array([[ 64,  80],\n",
       "       [128, 151]], dtype=int64)"
      ]
     },
     "execution_count": 49,
     "metadata": {},
     "output_type": "execute_result"
    }
   ],
   "source": [
    "confusion_matrix(y_pred1, y_test1)"
   ]
  },
  {
   "cell_type": "code",
   "execution_count": 50,
   "id": "DGIGuo6GIDOp",
   "metadata": {
    "colab": {
     "base_uri": "https://localhost:8080/"
    },
    "id": "DGIGuo6GIDOp",
    "outputId": "98f191f5-5042-4e3c-a454-0035b4d81238"
   },
   "outputs": [
    {
     "name": "stdout",
     "output_type": "stream",
     "text": [
      "                        precision    recall  f1-score   support\n",
      "\n",
      "Index Increase/Mantain       0.33      0.44      0.38       144\n",
      "        Index Decrease       0.65      0.54      0.59       279\n",
      "\n",
      "              accuracy                           0.51       423\n",
      "             macro avg       0.49      0.49      0.49       423\n",
      "          weighted avg       0.54      0.51      0.52       423\n",
      "\n"
     ]
    }
   ],
   "source": [
    "labels = {\"Index Increase/Mantain\":1, \"Index Decrease\":0}\n",
    "print(classification_report(y_pred1, y_test1, target_names = labels.keys()))"
   ]
  },
  {
   "cell_type": "code",
   "execution_count": 51,
   "id": "rV3ex_wVPHsL",
   "metadata": {
    "colab": {
     "base_uri": "https://localhost:8080/",
     "height": 392
    },
    "id": "rV3ex_wVPHsL",
    "outputId": "5614facc-1dd5-4366-b35a-b926aac6d861"
   },
   "outputs": [
    {
     "name": "stderr",
     "output_type": "stream",
     "text": [
      "C:\\Users\\lotar\\AppData\\Local\\Temp/ipykernel_3484/4034274701.py:39: UserWarning: Attempting to set identical bottom == top == 1.5 results in singular transformations; automatically expanding.\n",
      "  plt.ylim(top=len(class_names)-0.5)  # adjust the top leaving bottom unchanged\n"
     ]
    },
    {
     "data": {
      "image/png": "[encoded data removed]",
      "text/plain": [
       "<Figure size 432x288 with 2 Axes>"
      ]
     },
     "metadata": {
      "needs_background": "light"
     },
     "output_type": "display_data"
    }
   ],
   "source": [
    "def plot_cm(confusion_matrix : np.array, \n",
    "            classnames : list):\n",
    "    \"\"\"\n",
    "    Function that creates a confusion matrix plot using the Wikipedia convention for the axis. \n",
    "    :param confusion_matrix: confusion matrix that will be plotted\n",
    "    :param classnames: labels of the classes\n",
    "    \n",
    "    Returns:\n",
    "        - Plot of the Confusion Matrix\n",
    "    \"\"\"\n",
    "    \n",
    "    confusionmatrix = confusion_matrix\n",
    "    class_names = classnames             \n",
    "\n",
    "    fig, ax = plt.subplots()\n",
    "    im = plt.imshow(confusionmatrix, cmap=plt.cm.cividis)\n",
    "    plt.colorbar()\n",
    "\n",
    "    # We want to show all ticks...\n",
    "    ax.set_xticks(np.arange(len(class_names)))\n",
    "    ax.set_yticks(np.arange(len(class_names)))\n",
    "    # ... and label them with the respective list entries\n",
    "    ax.set_xticklabels(class_names)\n",
    "    ax.set_yticklabels(class_names)\n",
    "\n",
    "    # Rotate the tick labels and set their alignment.\n",
    "    plt.setp(ax.get_xticklabels(), rotation=45, ha=\"right\",\n",
    "             rotation_mode=\"anchor\")\n",
    "\n",
    "    # Loop over data dimensions and create text annotations.\n",
    "    for i in range(len(class_names)):\n",
    "        for j in range(len(class_names)):\n",
    "            text = ax.text(j, i, confusionmatrix[i, j],\n",
    "                           ha=\"center\", va=\"center\", color=\"w\")\n",
    "\n",
    "    ax.set_title(\"Confusion Matrix\")\n",
    "    plt.xlabel('Targets')\n",
    "    plt.ylabel('Predictions')\n",
    "    plt.ylim(top=len(class_names)-0.5)  # adjust the top leaving bottom unchanged\n",
    "    plt.ylim(bottom=-0.5)  # adjust the bottom leaving top unchanged\n",
    "    return plt.show()\n",
    "\n",
    "plot_cm(confusion_matrix(y_pred1, y_test1), labels.keys())"
   ]
  },
  {
   "cell_type": "markdown",
   "id": "PnFkQ0sctVzr",
   "metadata": {
    "id": "PnFkQ0sctVzr"
   },
   "source": [
    "## **KNN** - TF-IDF"
   ]
  },
  {
   "cell_type": "markdown",
   "id": "JFogbkRsfBti",
   "metadata": {
    "id": "JFogbkRsfBti"
   },
   "source": [
    "##### *Train Set*"
   ]
  },
  {
   "cell_type": "code",
   "execution_count": 52,
   "id": "xgyYOPIsd03b",
   "metadata": {
    "colab": {
     "base_uri": "https://localhost:8080/"
    },
    "id": "xgyYOPIsd03b",
    "outputId": "8e63d8a9-e585-4d8d-938f-5f3f47d57676"
   },
   "outputs": [
    {
     "data": {
      "text/plain": [
       "KNeighborsClassifier(metric='cosine', n_neighbors=10, weights='distance')"
      ]
     },
     "execution_count": 52,
     "metadata": {},
     "output_type": "execute_result"
    }
   ],
   "source": [
    "#Train Classifier\n",
    "modelknn2 = KNeighborsClassifier(n_neighbors = 10, metric = 'cosine', weights = 'distance')\n",
    "\n",
    "#Fitting the Model\n",
    "modelknn2.fit(X2,y)"
   ]
  },
  {
   "cell_type": "markdown",
   "id": "dc427623",
   "metadata": {
    "id": "dc427623"
   },
   "source": [
    "##### *Test Set*"
   ]
  },
  {
   "cell_type": "code",
   "execution_count": 53,
   "id": "ea229869",
   "metadata": {
    "id": "ea229869"
   },
   "outputs": [],
   "source": [
    "X_test2 = tfidf.transform(X_test_clean).toarray()\n",
    "\n",
    "y_test2 = y_test.to_numpy()\n",
    "y_pred2 = modelknn2.predict(X_test2)\n"
   ]
  },
  {
   "cell_type": "markdown",
   "id": "u9F9dytxqSV6",
   "metadata": {
    "id": "u9F9dytxqSV6"
   },
   "source": [
    "### Evaluation"
   ]
  },
  {
   "cell_type": "code",
   "execution_count": 54,
   "id": "DGWiUoA7qTKf",
   "metadata": {
    "colab": {
     "base_uri": "https://localhost:8080/"
    },
    "id": "DGWiUoA7qTKf",
    "outputId": "776cf961-20c2-44e3-9515-39968020e9c8"
   },
   "outputs": [
    {
     "data": {
      "text/plain": [
       "array([[ 83, 100],\n",
       "       [109, 131]], dtype=int64)"
      ]
     },
     "execution_count": 54,
     "metadata": {},
     "output_type": "execute_result"
    }
   ],
   "source": [
    "confusion_matrix(y_pred2, y_test2)\n"
   ]
  },
  {
   "cell_type": "code",
   "execution_count": 55,
   "id": "zNK46KOVqdbF",
   "metadata": {
    "colab": {
     "base_uri": "https://localhost:8080/"
    },
    "id": "zNK46KOVqdbF",
    "outputId": "85f3498f-389a-4804-df60-8f411dff9f6e",
    "scrolled": true
   },
   "outputs": [
    {
     "name": "stdout",
     "output_type": "stream",
     "text": [
      "                        precision    recall  f1-score   support\n",
      "\n",
      "Index Increase/Mantain       0.43      0.45      0.44       183\n",
      "        Index Decrease       0.57      0.55      0.56       240\n",
      "\n",
      "              accuracy                           0.51       423\n",
      "             macro avg       0.50      0.50      0.50       423\n",
      "          weighted avg       0.51      0.51      0.51       423\n",
      "\n"
     ]
    }
   ],
   "source": [
    "labels = {\"Index Increase/Mantain\":1, \"Index Decrease\":0}\n",
    "print(classification_report(y_pred2, y_test2, target_names = labels.keys()))"
   ]
  },
  {
   "cell_type": "markdown",
   "id": "lhXGyz8_uQus",
   "metadata": {
    "id": "lhXGyz8_uQus"
   },
   "source": [
    "## **Naive Bayes** - TF-IDF"
   ]
  },
  {
   "cell_type": "markdown",
   "id": "a2bd0c83",
   "metadata": {},
   "source": [
    "##### *Train Set*"
   ]
  },
  {
   "cell_type": "code",
   "execution_count": 56,
   "id": "T42x2aKluWgE",
   "metadata": {
    "colab": {
     "base_uri": "https://localhost:8080/",
     "height": 217
    },
    "id": "T42x2aKluWgE",
    "outputId": "97e26407-3e03-4207-eb68-900c9eade1e0"
   },
   "outputs": [
    {
     "data": {
      "text/plain": [
       "GaussianNB()"
      ]
     },
     "execution_count": 56,
     "metadata": {},
     "output_type": "execute_result"
    }
   ],
   "source": [
    "X3 = X2.toarray()\n",
    "\n",
    "nb = GaussianNB()\n",
    "nb.fit(X3, y)"
   ]
  },
  {
   "cell_type": "markdown",
   "id": "eeace6d8",
   "metadata": {},
   "source": [
    "##### *Test Set*"
   ]
  },
  {
   "cell_type": "code",
   "execution_count": 57,
   "id": "JMnN-d4XvBxi",
   "metadata": {
    "colab": {
     "base_uri": "https://localhost:8080/",
     "height": 1000
    },
    "id": "JMnN-d4XvBxi",
    "outputId": "efae13b7-37ee-4915-f223-c241447bbf6d"
   },
   "outputs": [
    {
     "name": "stdout",
     "output_type": "stream",
     "text": [
      "              precision    recall  f1-score   support\n",
      "\n",
      "           0       0.39      0.29      0.33       192\n",
      "           1       0.51      0.62      0.56       231\n",
      "\n",
      "    accuracy                           0.47       423\n",
      "   macro avg       0.45      0.45      0.45       423\n",
      "weighted avg       0.46      0.47      0.46       423\n",
      "\n"
     ]
    }
   ],
   "source": [
    "nb_pred = nb.predict(X_test2)\n",
    "\n",
    "\n",
    "print(classification_report(y_test2, nb_pred))"
   ]
  },
  {
   "cell_type": "markdown",
   "id": "1fc575e0",
   "metadata": {
    "id": "1fc575e0"
   },
   "source": [
    "## Logistic Regression - TF-IDF"
   ]
  },
  {
   "cell_type": "markdown",
   "id": "15a898bf",
   "metadata": {},
   "source": [
    "##### *Train Set*"
   ]
  },
  {
   "cell_type": "code",
   "execution_count": 58,
   "id": "830ebc4c",
   "metadata": {
    "id": "830ebc4c"
   },
   "outputs": [],
   "source": [
    "lr = LogisticRegression(random_state=5)"
   ]
  },
  {
   "cell_type": "code",
   "execution_count": 59,
   "id": "7cf7fcee",
   "metadata": {
    "id": "7cf7fcee"
   },
   "outputs": [
    {
     "data": {
      "text/plain": [
       "LogisticRegression(random_state=5)"
      ]
     },
     "execution_count": 59,
     "metadata": {},
     "output_type": "execute_result"
    }
   ],
   "source": [
    "lr.fit(X3,y)"
   ]
  },
  {
   "cell_type": "code",
   "execution_count": 60,
   "id": "c53ca37c",
   "metadata": {
    "id": "c53ca37c"
   },
   "outputs": [
    {
     "data": {
      "text/plain": [
       "array([0, 1], dtype=int64)"
      ]
     },
     "execution_count": 60,
     "metadata": {},
     "output_type": "execute_result"
    }
   ],
   "source": [
    "lr.classes_"
   ]
  },
  {
   "cell_type": "code",
   "execution_count": 61,
   "id": "276c5368",
   "metadata": {
    "id": "276c5368"
   },
   "outputs": [
    {
     "data": {
      "text/plain": [
       "array([[-0.0227289 , -0.0227289 , -0.04247955, ...,  0.01894846,\n",
       "         0.01863855,  0.01863855]])"
      ]
     },
     "execution_count": 61,
     "metadata": {},
     "output_type": "execute_result"
    }
   ],
   "source": [
    "lr.coef_"
   ]
  },
  {
   "cell_type": "code",
   "execution_count": 62,
   "id": "b3f8b1f5",
   "metadata": {
    "id": "b3f8b1f5"
   },
   "outputs": [
    {
     "data": {
      "text/plain": [
       "array([0.10712322])"
      ]
     },
     "execution_count": 62,
     "metadata": {},
     "output_type": "execute_result"
    }
   ],
   "source": [
    "lr.intercept_"
   ]
  },
  {
   "cell_type": "markdown",
   "id": "d0fe9b5e",
   "metadata": {},
   "source": [
    "##### *Test Set*"
   ]
  },
  {
   "cell_type": "code",
   "execution_count": 63,
   "id": "690747dd",
   "metadata": {
    "id": "690747dd"
   },
   "outputs": [],
   "source": [
    "lr_pred = lr.predict(X_test2)"
   ]
  },
  {
   "cell_type": "code",
   "execution_count": 64,
   "id": "360115f9",
   "metadata": {
    "id": "360115f9"
   },
   "outputs": [
    {
     "data": {
      "text/plain": [
       "array([[0.48198806, 0.51801194],\n",
       "       [0.45226455, 0.54773545],\n",
       "       [0.460844  , 0.539156  ],\n",
       "       [0.46693258, 0.53306742],\n",
       "       [0.51503735, 0.48496265],\n",
       "       [0.47444623, 0.52555377],\n",
       "       [0.47486304, 0.52513696],\n",
       "       [0.45772648, 0.54227352],\n",
       "       [0.47478003, 0.52521997],\n",
       "       [0.4619695 , 0.5380305 ],\n",
       "       [0.45143592, 0.54856408],\n",
       "       [0.45819245, 0.54180755],\n",
       "       [0.45521104, 0.54478896],\n",
       "       [0.47660295, 0.52339705],\n",
       "       [0.44378002, 0.55621998],\n",
       "       [0.52761056, 0.47238944],\n",
       "       [0.47353693, 0.52646307],\n",
       "       [0.47927039, 0.52072961],\n",
       "       [0.41175308, 0.58824692],\n",
       "       [0.44903162, 0.55096838],\n",
       "       [0.50172713, 0.49827287],\n",
       "       [0.45174139, 0.54825861],\n",
       "       [0.44816034, 0.55183966],\n",
       "       [0.42965369, 0.57034631],\n",
       "       [0.46368287, 0.53631713],\n",
       "       [0.51340033, 0.48659967],\n",
       "       [0.48758033, 0.51241967],\n",
       "       [0.43239614, 0.56760386],\n",
       "       [0.4667485 , 0.5332515 ],\n",
       "       [0.452339  , 0.547661  ],\n",
       "       [0.45170922, 0.54829078],\n",
       "       [0.49706809, 0.50293191],\n",
       "       [0.44492334, 0.55507666],\n",
       "       [0.44792475, 0.55207525],\n",
       "       [0.47288   , 0.52712   ],\n",
       "       [0.45971261, 0.54028739],\n",
       "       [0.50301796, 0.49698204],\n",
       "       [0.43742156, 0.56257844],\n",
       "       [0.47415339, 0.52584661],\n",
       "       [0.48779963, 0.51220037],\n",
       "       [0.46349145, 0.53650855],\n",
       "       [0.4304407 , 0.5695593 ],\n",
       "       [0.45827405, 0.54172595],\n",
       "       [0.46805629, 0.53194371],\n",
       "       [0.47672298, 0.52327702],\n",
       "       [0.46234317, 0.53765683],\n",
       "       [0.47625951, 0.52374049],\n",
       "       [0.4981754 , 0.5018246 ],\n",
       "       [0.43980387, 0.56019613],\n",
       "       [0.46837046, 0.53162954],\n",
       "       [0.45591379, 0.54408621],\n",
       "       [0.48851157, 0.51148843],\n",
       "       [0.44362468, 0.55637532],\n",
       "       [0.39951831, 0.60048169],\n",
       "       [0.42288763, 0.57711237],\n",
       "       [0.46631936, 0.53368064],\n",
       "       [0.46847964, 0.53152036],\n",
       "       [0.44832985, 0.55167015],\n",
       "       [0.45225298, 0.54774702],\n",
       "       [0.47831156, 0.52168844],\n",
       "       [0.41573707, 0.58426293],\n",
       "       [0.52486862, 0.47513138],\n",
       "       [0.40640503, 0.59359497],\n",
       "       [0.4798819 , 0.5201181 ],\n",
       "       [0.45405344, 0.54594656],\n",
       "       [0.48724347, 0.51275653],\n",
       "       [0.46314565, 0.53685435],\n",
       "       [0.52314959, 0.47685041],\n",
       "       [0.47105376, 0.52894624],\n",
       "       [0.45926902, 0.54073098],\n",
       "       [0.48533548, 0.51466452],\n",
       "       [0.44403605, 0.55596395],\n",
       "       [0.47970876, 0.52029124],\n",
       "       [0.45081733, 0.54918267],\n",
       "       [0.4701487 , 0.5298513 ],\n",
       "       [0.44062851, 0.55937149],\n",
       "       [0.43462521, 0.56537479],\n",
       "       [0.43658799, 0.56341201],\n",
       "       [0.418001  , 0.581999  ],\n",
       "       [0.43150815, 0.56849185],\n",
       "       [0.46283985, 0.53716015],\n",
       "       [0.43962963, 0.56037037],\n",
       "       [0.37733605, 0.62266395],\n",
       "       [0.48580268, 0.51419732],\n",
       "       [0.46231021, 0.53768979],\n",
       "       [0.47288944, 0.52711056],\n",
       "       [0.44943514, 0.55056486],\n",
       "       [0.46541385, 0.53458615],\n",
       "       [0.4166145 , 0.5833855 ],\n",
       "       [0.47462661, 0.52537339],\n",
       "       [0.48626603, 0.51373397],\n",
       "       [0.46152852, 0.53847148],\n",
       "       [0.45602454, 0.54397546],\n",
       "       [0.4901637 , 0.5098363 ],\n",
       "       [0.4902621 , 0.5097379 ],\n",
       "       [0.41218341, 0.58781659],\n",
       "       [0.43846471, 0.56153529],\n",
       "       [0.4496513 , 0.5503487 ],\n",
       "       [0.44643866, 0.55356134],\n",
       "       [0.48416651, 0.51583349],\n",
       "       [0.47315205, 0.52684795],\n",
       "       [0.50025956, 0.49974044],\n",
       "       [0.45959927, 0.54040073],\n",
       "       [0.47214066, 0.52785934],\n",
       "       [0.47410256, 0.52589744],\n",
       "       [0.47074755, 0.52925245],\n",
       "       [0.4509642 , 0.5490358 ],\n",
       "       [0.48205126, 0.51794874],\n",
       "       [0.46816523, 0.53183477],\n",
       "       [0.4166839 , 0.5833161 ],\n",
       "       [0.48877599, 0.51122401],\n",
       "       [0.43326181, 0.56673819],\n",
       "       [0.45180061, 0.54819939],\n",
       "       [0.42524625, 0.57475375],\n",
       "       [0.49567187, 0.50432813],\n",
       "       [0.50099021, 0.49900979],\n",
       "       [0.49069779, 0.50930221],\n",
       "       [0.50796416, 0.49203584],\n",
       "       [0.45374798, 0.54625202],\n",
       "       [0.48024003, 0.51975997],\n",
       "       [0.45277114, 0.54722886],\n",
       "       [0.50261584, 0.49738416],\n",
       "       [0.47249223, 0.52750777],\n",
       "       [0.40910095, 0.59089905],\n",
       "       [0.46133917, 0.53866083],\n",
       "       [0.43603639, 0.56396361],\n",
       "       [0.467925  , 0.532075  ],\n",
       "       [0.47812884, 0.52187116],\n",
       "       [0.43636411, 0.56363589],\n",
       "       [0.47073653, 0.52926347],\n",
       "       [0.46887546, 0.53112454],\n",
       "       [0.49977033, 0.50022967],\n",
       "       [0.47267666, 0.52732334],\n",
       "       [0.46129951, 0.53870049],\n",
       "       [0.49129155, 0.50870845],\n",
       "       [0.47373418, 0.52626582],\n",
       "       [0.519911  , 0.480089  ],\n",
       "       [0.4526928 , 0.5473072 ],\n",
       "       [0.43504403, 0.56495597],\n",
       "       [0.46277623, 0.53722377],\n",
       "       [0.45325601, 0.54674399],\n",
       "       [0.47378893, 0.52621107],\n",
       "       [0.49986394, 0.50013606],\n",
       "       [0.43569668, 0.56430332],\n",
       "       [0.44600882, 0.55399118],\n",
       "       [0.49790745, 0.50209255],\n",
       "       [0.47363506, 0.52636494],\n",
       "       [0.45577735, 0.54422265],\n",
       "       [0.44224799, 0.55775201],\n",
       "       [0.43480433, 0.56519567],\n",
       "       [0.47983803, 0.52016197],\n",
       "       [0.45295451, 0.54704549],\n",
       "       [0.47253453, 0.52746547],\n",
       "       [0.4791328 , 0.5208672 ],\n",
       "       [0.48897956, 0.51102044],\n",
       "       [0.44425894, 0.55574106],\n",
       "       [0.46641715, 0.53358285],\n",
       "       [0.47671636, 0.52328364],\n",
       "       [0.4773969 , 0.5226031 ],\n",
       "       [0.4598511 , 0.5401489 ],\n",
       "       [0.4641179 , 0.5358821 ],\n",
       "       [0.47680858, 0.52319142],\n",
       "       [0.46086362, 0.53913638],\n",
       "       [0.48241902, 0.51758098],\n",
       "       [0.45520676, 0.54479324],\n",
       "       [0.4502693 , 0.5497307 ],\n",
       "       [0.46610949, 0.53389051],\n",
       "       [0.46792486, 0.53207514],\n",
       "       [0.44019994, 0.55980006],\n",
       "       [0.47372994, 0.52627006],\n",
       "       [0.43490739, 0.56509261],\n",
       "       [0.47841901, 0.52158099],\n",
       "       [0.51537381, 0.48462619],\n",
       "       [0.43808033, 0.56191967],\n",
       "       [0.50199445, 0.49800555],\n",
       "       [0.48583751, 0.51416249],\n",
       "       [0.4631697 , 0.5368303 ],\n",
       "       [0.48106436, 0.51893564],\n",
       "       [0.47800748, 0.52199252],\n",
       "       [0.43830806, 0.56169194],\n",
       "       [0.43462179, 0.56537821],\n",
       "       [0.49111589, 0.50888411],\n",
       "       [0.41326646, 0.58673354],\n",
       "       [0.49119459, 0.50880541],\n",
       "       [0.45807352, 0.54192648],\n",
       "       [0.48375296, 0.51624704],\n",
       "       [0.4504228 , 0.5495772 ],\n",
       "       [0.50830108, 0.49169892],\n",
       "       [0.42223875, 0.57776125],\n",
       "       [0.47488496, 0.52511504],\n",
       "       [0.45486512, 0.54513488],\n",
       "       [0.45882824, 0.54117176],\n",
       "       [0.48492239, 0.51507761],\n",
       "       [0.47106792, 0.52893208],\n",
       "       [0.4376297 , 0.5623703 ],\n",
       "       [0.45103807, 0.54896193],\n",
       "       [0.48244575, 0.51755425],\n",
       "       [0.48799793, 0.51200207],\n",
       "       [0.44839416, 0.55160584],\n",
       "       [0.49595872, 0.50404128],\n",
       "       [0.46625799, 0.53374201],\n",
       "       [0.47389085, 0.52610915],\n",
       "       [0.4406159 , 0.5593841 ],\n",
       "       [0.47114929, 0.52885071],\n",
       "       [0.46017238, 0.53982762],\n",
       "       [0.47910374, 0.52089626],\n",
       "       [0.48867489, 0.51132511],\n",
       "       [0.46625455, 0.53374545],\n",
       "       [0.49381784, 0.50618216],\n",
       "       [0.46256691, 0.53743309],\n",
       "       [0.47092731, 0.52907269],\n",
       "       [0.51052371, 0.48947629],\n",
       "       [0.4324167 , 0.5675833 ],\n",
       "       [0.49499918, 0.50500082],\n",
       "       [0.46273031, 0.53726969],\n",
       "       [0.51227357, 0.48772643],\n",
       "       [0.45157234, 0.54842766],\n",
       "       [0.47273698, 0.52726302],\n",
       "       [0.46291687, 0.53708313],\n",
       "       [0.48651292, 0.51348708],\n",
       "       [0.44689554, 0.55310446],\n",
       "       [0.49920042, 0.50079958],\n",
       "       [0.46055216, 0.53944784],\n",
       "       [0.48894734, 0.51105266],\n",
       "       [0.49805823, 0.50194177],\n",
       "       [0.46811021, 0.53188979],\n",
       "       [0.43381144, 0.56618856],\n",
       "       [0.4436965 , 0.5563035 ],\n",
       "       [0.4670558 , 0.5329442 ],\n",
       "       [0.43311247, 0.56688753],\n",
       "       [0.52184578, 0.47815422],\n",
       "       [0.46607433, 0.53392567],\n",
       "       [0.45481401, 0.54518599],\n",
       "       [0.45757794, 0.54242206],\n",
       "       [0.47568898, 0.52431102],\n",
       "       [0.46863928, 0.53136072],\n",
       "       [0.49353725, 0.50646275],\n",
       "       [0.4665675 , 0.5334325 ],\n",
       "       [0.49584921, 0.50415079],\n",
       "       [0.49419023, 0.50580977],\n",
       "       [0.4311806 , 0.5688194 ],\n",
       "       [0.46037669, 0.53962331],\n",
       "       [0.45470446, 0.54529554],\n",
       "       [0.41582414, 0.58417586],\n",
       "       [0.51652387, 0.48347613],\n",
       "       [0.46528835, 0.53471165],\n",
       "       [0.52414141, 0.47585859],\n",
       "       [0.4839847 , 0.5160153 ],\n",
       "       [0.45861396, 0.54138604],\n",
       "       [0.48436924, 0.51563076],\n",
       "       [0.4939061 , 0.5060939 ],\n",
       "       [0.51552809, 0.48447191],\n",
       "       [0.47963595, 0.52036405],\n",
       "       [0.46036177, 0.53963823],\n",
       "       [0.50187746, 0.49812254],\n",
       "       [0.47808001, 0.52191999],\n",
       "       [0.46662702, 0.53337298],\n",
       "       [0.48074736, 0.51925264],\n",
       "       [0.4763755 , 0.5236245 ],\n",
       "       [0.48579934, 0.51420066],\n",
       "       [0.46362579, 0.53637421],\n",
       "       [0.51035952, 0.48964048],\n",
       "       [0.43720744, 0.56279256],\n",
       "       [0.50972289, 0.49027711],\n",
       "       [0.45867026, 0.54132974],\n",
       "       [0.51289382, 0.48710618],\n",
       "       [0.51663679, 0.48336321],\n",
       "       [0.4679616 , 0.5320384 ],\n",
       "       [0.45848113, 0.54151887],\n",
       "       [0.46666768, 0.53333232],\n",
       "       [0.45459372, 0.54540628],\n",
       "       [0.44585997, 0.55414003],\n",
       "       [0.47589359, 0.52410641],\n",
       "       [0.46503961, 0.53496039],\n",
       "       [0.47518992, 0.52481008],\n",
       "       [0.45290733, 0.54709267],\n",
       "       [0.45999136, 0.54000864],\n",
       "       [0.46938405, 0.53061595],\n",
       "       [0.46072036, 0.53927964],\n",
       "       [0.47211843, 0.52788157],\n",
       "       [0.47799794, 0.52200206],\n",
       "       [0.48251852, 0.51748148],\n",
       "       [0.43615644, 0.56384356],\n",
       "       [0.4889372 , 0.5110628 ],\n",
       "       [0.49709562, 0.50290438],\n",
       "       [0.43530357, 0.56469643],\n",
       "       [0.49124121, 0.50875879],\n",
       "       [0.46744225, 0.53255775],\n",
       "       [0.44416898, 0.55583102],\n",
       "       [0.46264412, 0.53735588],\n",
       "       [0.46996059, 0.53003941],\n",
       "       [0.44392132, 0.55607868],\n",
       "       [0.48185154, 0.51814846],\n",
       "       [0.46858233, 0.53141767],\n",
       "       [0.46400794, 0.53599206],\n",
       "       [0.44750419, 0.55249581],\n",
       "       [0.46750097, 0.53249903],\n",
       "       [0.46699887, 0.53300113],\n",
       "       [0.45378666, 0.54621334],\n",
       "       [0.48096288, 0.51903712],\n",
       "       [0.47640496, 0.52359504],\n",
       "       [0.41987135, 0.58012865],\n",
       "       [0.4506339 , 0.5493661 ],\n",
       "       [0.50828242, 0.49171758],\n",
       "       [0.48506223, 0.51493777],\n",
       "       [0.47940663, 0.52059337],\n",
       "       [0.47777174, 0.52222826],\n",
       "       [0.48196588, 0.51803412],\n",
       "       [0.45857013, 0.54142987],\n",
       "       [0.46947719, 0.53052281],\n",
       "       [0.48995549, 0.51004451],\n",
       "       [0.46698641, 0.53301359],\n",
       "       [0.51416536, 0.48583464],\n",
       "       [0.46724981, 0.53275019],\n",
       "       [0.48502239, 0.51497761],\n",
       "       [0.47896862, 0.52103138],\n",
       "       [0.46092848, 0.53907152],\n",
       "       [0.48890436, 0.51109564],\n",
       "       [0.44689959, 0.55310041],\n",
       "       [0.50917935, 0.49082065],\n",
       "       [0.48498229, 0.51501771],\n",
       "       [0.49533982, 0.50466018],\n",
       "       [0.49336832, 0.50663168],\n",
       "       [0.4522861 , 0.5477139 ],\n",
       "       [0.46402333, 0.53597667],\n",
       "       [0.471855  , 0.528145  ],\n",
       "       [0.48112562, 0.51887438],\n",
       "       [0.45040847, 0.54959153],\n",
       "       [0.49855609, 0.50144391],\n",
       "       [0.47324427, 0.52675573],\n",
       "       [0.49209708, 0.50790292],\n",
       "       [0.51913196, 0.48086804],\n",
       "       [0.46783583, 0.53216417],\n",
       "       [0.42965507, 0.57034493],\n",
       "       [0.47461358, 0.52538642],\n",
       "       [0.46793756, 0.53206244],\n",
       "       [0.47420349, 0.52579651],\n",
       "       [0.43905781, 0.56094219],\n",
       "       [0.4897056 , 0.5102944 ],\n",
       "       [0.4780155 , 0.5219845 ],\n",
       "       [0.46608874, 0.53391126],\n",
       "       [0.45205692, 0.54794308],\n",
       "       [0.50162177, 0.49837823],\n",
       "       [0.4369777 , 0.5630223 ],\n",
       "       [0.44346628, 0.55653372],\n",
       "       [0.44713566, 0.55286434],\n",
       "       [0.46079357, 0.53920643],\n",
       "       [0.45207813, 0.54792187],\n",
       "       [0.45853842, 0.54146158],\n",
       "       [0.49880145, 0.50119855],\n",
       "       [0.46606966, 0.53393034],\n",
       "       [0.45713692, 0.54286308],\n",
       "       [0.46709118, 0.53290882],\n",
       "       [0.45993271, 0.54006729],\n",
       "       [0.46594229, 0.53405771],\n",
       "       [0.50153388, 0.49846612],\n",
       "       [0.44442679, 0.55557321],\n",
       "       [0.47666104, 0.52333896],\n",
       "       [0.46944261, 0.53055739],\n",
       "       [0.46984221, 0.53015779],\n",
       "       [0.44644713, 0.55355287],\n",
       "       [0.47284167, 0.52715833],\n",
       "       [0.46598761, 0.53401239],\n",
       "       [0.51434278, 0.48565722],\n",
       "       [0.47032807, 0.52967193],\n",
       "       [0.43991906, 0.56008094],\n",
       "       [0.48138826, 0.51861174],\n",
       "       [0.4920622 , 0.5079378 ],\n",
       "       [0.46736348, 0.53263652],\n",
       "       [0.49277678, 0.50722322],\n",
       "       [0.4659505 , 0.5340495 ],\n",
       "       [0.45772164, 0.54227836],\n",
       "       [0.43636652, 0.56363348],\n",
       "       [0.43891038, 0.56108962],\n",
       "       [0.48674614, 0.51325386],\n",
       "       [0.45470486, 0.54529514],\n",
       "       [0.44780536, 0.55219464],\n",
       "       [0.43657495, 0.56342505],\n",
       "       [0.4702035 , 0.5297965 ],\n",
       "       [0.44961986, 0.55038014],\n",
       "       [0.48677122, 0.51322878],\n",
       "       [0.47803379, 0.52196621],\n",
       "       [0.46137198, 0.53862802],\n",
       "       [0.47460392, 0.52539608],\n",
       "       [0.48514001, 0.51485999],\n",
       "       [0.51947847, 0.48052153],\n",
       "       [0.44763129, 0.55236871],\n",
       "       [0.48091585, 0.51908415],\n",
       "       [0.46442654, 0.53557346],\n",
       "       [0.43643002, 0.56356998],\n",
       "       [0.46030011, 0.53969989],\n",
       "       [0.41801672, 0.58198328],\n",
       "       [0.51760188, 0.48239812],\n",
       "       [0.4786698 , 0.5213302 ],\n",
       "       [0.4973651 , 0.5026349 ],\n",
       "       [0.43745306, 0.56254694],\n",
       "       [0.44542932, 0.55457068],\n",
       "       [0.47286762, 0.52713238],\n",
       "       [0.50084978, 0.49915022],\n",
       "       [0.46062606, 0.53937394],\n",
       "       [0.49460249, 0.50539751],\n",
       "       [0.46731897, 0.53268103],\n",
       "       [0.46974956, 0.53025044],\n",
       "       [0.47268292, 0.52731708],\n",
       "       [0.52062074, 0.47937926],\n",
       "       [0.46403371, 0.53596629],\n",
       "       [0.5024992 , 0.4975008 ],\n",
       "       [0.45755685, 0.54244315],\n",
       "       [0.4730019 , 0.5269981 ],\n",
       "       [0.45620197, 0.54379803],\n",
       "       [0.4554693 , 0.5445307 ],\n",
       "       [0.49617419, 0.50382581],\n",
       "       [0.48323543, 0.51676457],\n",
       "       [0.46205549, 0.53794451],\n",
       "       [0.46549217, 0.53450783],\n",
       "       [0.45715875, 0.54284125],\n",
       "       [0.42699004, 0.57300996],\n",
       "       [0.47410596, 0.52589404],\n",
       "       [0.49034291, 0.50965709],\n",
       "       [0.45769468, 0.54230532],\n",
       "       [0.45937001, 0.54062999],\n",
       "       [0.45962094, 0.54037906],\n",
       "       [0.45911812, 0.54088188]])"
      ]
     },
     "execution_count": 64,
     "metadata": {},
     "output_type": "execute_result"
    }
   ],
   "source": [
    "lr.predict_proba(X_test2)"
   ]
  },
  {
   "cell_type": "code",
   "execution_count": 65,
   "id": "9a5a434e",
   "metadata": {
    "id": "9a5a434e"
   },
   "outputs": [
    {
     "name": "stdout",
     "output_type": "stream",
     "text": [
      "              precision    recall  f1-score   support\n",
      "\n",
      "           0       0.39      0.08      0.13       192\n",
      "           1       0.54      0.90      0.68       231\n",
      "\n",
      "    accuracy                           0.53       423\n",
      "   macro avg       0.47      0.49      0.40       423\n",
      "weighted avg       0.47      0.53      0.43       423\n",
      "\n"
     ]
    }
   ],
   "source": [
    "print(classification_report(y_test2, lr_pred))"
   ]
  },
  {
   "cell_type": "markdown",
   "id": "ce3e2238",
   "metadata": {
    "id": "ce3e2238"
   },
   "source": [
    "Similar to a linear regression squashed to a logistic function. Support = nº times each label appears in \\\n",
    "the corpus. Most of them are 1s. F1-Score: macro avg is the mean between the 2 and the weighted average has a \\\n",
    "a ponderation with support\""
   ]
  },
  {
   "cell_type": "markdown",
   "id": "5b28997f",
   "metadata": {
    "id": "5b28997f"
   },
   "source": [
    "## Multilayer Perceptron - ANN - TF-IDF"
   ]
  },
  {
   "cell_type": "markdown",
   "id": "fc9c4deb",
   "metadata": {},
   "source": [
    "##### *Train Set*"
   ]
  },
  {
   "cell_type": "code",
   "execution_count": 66,
   "id": "b3fcbbf3",
   "metadata": {
    "id": "b3fcbbf3"
   },
   "outputs": [],
   "source": [
    "mlp = MLPClassifier(solver='adam', hidden_layer_sizes=(2,2), activation='logistic', random_state=1)"
   ]
  },
  {
   "cell_type": "code",
   "execution_count": 67,
   "id": "59e254c0",
   "metadata": {
    "id": "59e254c0"
   },
   "outputs": [
    {
     "name": "stderr",
     "output_type": "stream",
     "text": [
      "C:\\Users\\lotar\\anaconda3\\lib\\site-packages\\sklearn\\neural_network\\_multilayer_perceptron.py:699: UserWarning: Training interrupted by user.\n",
      "  warnings.warn(\"Training interrupted by user.\")\n"
     ]
    },
    {
     "data": {
      "text/plain": [
       "MLPClassifier(activation='logistic', hidden_layer_sizes=(2, 2), random_state=1)"
      ]
     },
     "execution_count": 67,
     "metadata": {},
     "output_type": "execute_result"
    }
   ],
   "source": [
    "mlp.fit(X3,y)"
   ]
  },
  {
   "cell_type": "markdown",
   "id": "4116ece1",
   "metadata": {},
   "source": [
    "##### *Test Set*"
   ]
  },
  {
   "cell_type": "code",
   "execution_count": 68,
   "id": "81d88a43",
   "metadata": {
    "id": "81d88a43"
   },
   "outputs": [],
   "source": [
    "mlp_pred = mlp.predict(X_test2)"
   ]
  },
  {
   "cell_type": "code",
   "execution_count": 69,
   "id": "041a5049",
   "metadata": {
    "id": "041a5049"
   },
   "outputs": [
    {
     "name": "stdout",
     "output_type": "stream",
     "text": [
      "              precision    recall  f1-score   support\n",
      "\n",
      "           0       0.00      0.00      0.00       192\n",
      "           1       0.55      1.00      0.71       231\n",
      "\n",
      "    accuracy                           0.55       423\n",
      "   macro avg       0.27      0.50      0.35       423\n",
      "weighted avg       0.30      0.55      0.39       423\n",
      "\n"
     ]
    },
    {
     "name": "stderr",
     "output_type": "stream",
     "text": [
      "C:\\Users\\lotar\\anaconda3\\lib\\site-packages\\sklearn\\metrics\\_classification.py:1318: UndefinedMetricWarning: Precision and F-score are ill-defined and being set to 0.0 in labels with no predicted samples. Use `zero_division` parameter to control this behavior.\n",
      "  _warn_prf(average, modifier, msg_start, len(result))\n",
      "C:\\Users\\lotar\\anaconda3\\lib\\site-packages\\sklearn\\metrics\\_classification.py:1318: UndefinedMetricWarning: Precision and F-score are ill-defined and being set to 0.0 in labels with no predicted samples. Use `zero_division` parameter to control this behavior.\n",
      "  _warn_prf(average, modifier, msg_start, len(result))\n",
      "C:\\Users\\lotar\\anaconda3\\lib\\site-packages\\sklearn\\metrics\\_classification.py:1318: UndefinedMetricWarning: Precision and F-score are ill-defined and being set to 0.0 in labels with no predicted samples. Use `zero_division` parameter to control this behavior.\n",
      "  _warn_prf(average, modifier, msg_start, len(result))\n"
     ]
    }
   ],
   "source": [
    "print(classification_report(y_test2, mlp_pred))"
   ]
  },
  {
   "cell_type": "markdown",
   "id": "d295992c",
   "metadata": {},
   "source": [
    "# **2.1. Corpus Split (train and test sets) - reduced data**"
   ]
  },
  {
   "cell_type": "code",
   "execution_count": 83,
   "id": "9c9473bd",
   "metadata": {},
   "outputs": [],
   "source": [
    "#Drop Headlines due to computational memory issues\n",
    "stocks_df_train_red = stocks_df_train2\n",
    "stocks_df_train_red.drop(stocks_df_train_red.iloc[:,12:28], inplace = True, axis = 1)"
   ]
  },
  {
   "cell_type": "code",
   "execution_count": 92,
   "id": "5909bdd6",
   "metadata": {
    "scrolled": true
   },
   "outputs": [
    {
     "data": {
      "text/html": [
       "<div>\n",
       "<style scoped>\n",
       "    .dataframe tbody tr th:only-of-type {\n",
       "        vertical-align: middle;\n",
       "    }\n",
       "\n",
       "    .dataframe tbody tr th {\n",
       "        vertical-align: top;\n",
       "    }\n",
       "\n",
       "    .dataframe thead th {\n",
       "        text-align: right;\n",
       "    }\n",
       "</style>\n",
       "<table border=\"1\" class=\"dataframe\">\n",
       "  <thead>\n",
       "    <tr style=\"text-align: right;\">\n",
       "      <th></th>\n",
       "      <th>Sum</th>\n",
       "      <th>word_count</th>\n",
       "    </tr>\n",
       "  </thead>\n",
       "  <tbody>\n",
       "    <tr>\n",
       "      <th>0</th>\n",
       "      <td>Milan court convicts Berlusconi of tax evasion...</td>\n",
       "      <td>244</td>\n",
       "    </tr>\n",
       "    <tr>\n",
       "      <th>1</th>\n",
       "      <td>Iraq Police Training: $200 Million Wasted On P...</td>\n",
       "      <td>227</td>\n",
       "    </tr>\n",
       "    <tr>\n",
       "      <th>2</th>\n",
       "      <td>Al Shabaab kidnaps, interrogates new Somali mi...</td>\n",
       "      <td>131</td>\n",
       "    </tr>\n",
       "    <tr>\n",
       "      <th>3</th>\n",
       "      <td>Sweden With Entitlements &amp;amp; Health Care Sur...</td>\n",
       "      <td>254</td>\n",
       "    </tr>\n",
       "    <tr>\n",
       "      <th>4</th>\n",
       "      <td>FIFA has banned Croatian defender Josip Simuni...</td>\n",
       "      <td>244</td>\n",
       "    </tr>\n",
       "  </tbody>\n",
       "</table>\n",
       "</div>"
      ],
      "text/plain": [
       "                                                 Sum  word_count\n",
       "0  Milan court convicts Berlusconi of tax evasion...         244\n",
       "1  Iraq Police Training: $200 Million Wasted On P...         227\n",
       "2  Al Shabaab kidnaps, interrogates new Somali mi...         131\n",
       "3  Sweden With Entitlements &amp; Health Care Sur...         254\n",
       "4  FIFA has banned Croatian defender Josip Simuni...         244"
      ]
     },
     "execution_count": 92,
     "metadata": {},
     "output_type": "execute_result"
    }
   ],
   "source": [
    "#Appending all the Headlines into 1 column\n",
    "stocks_df_train_red2 = []\n",
    "for row in range(0,1690):\n",
    "    stocks_df_train_red2.append(' '.join(str(x) for x in stocks_df_train_red.iloc[row,1:12]))\n",
    "\n",
    "#Adding this column to dataframe\n",
    "stocks_df_train_red['Sum'] = stocks_df_train_red2\n",
    "\n",
    "#Creating word count column and stripping it\n",
    "stocks_df_train_red['word_count']  = stocks_df_train_red['Sum'].apply(lambda x: len(str(x).split(\" \")))\n",
    "stocks_df_train_red[['Sum','word_count']].head()"
   ]
  },
  {
   "cell_type": "code",
   "execution_count": 95,
   "id": "77630bc5",
   "metadata": {},
   "outputs": [],
   "source": [
    "X_train, X_test, y_train, y_test = train_test_split(stocks_df_train_red['Sum'], stocks_df_train_red['Closing Status'], test_size=0.25, random_state=4)"
   ]
  },
  {
   "cell_type": "markdown",
   "id": "b0b5f6c6",
   "metadata": {},
   "source": [
    "# **3. Data Preprocessing - reduced data**"
   ]
  },
  {
   "cell_type": "code",
   "execution_count": 96,
   "id": "04f40f0e",
   "metadata": {},
   "outputs": [
    {
     "name": "stderr",
     "output_type": "stream",
     "text": [
      "100%|██████████| 1267/1267 [00:00<00:00, 50670.63it/s]\n",
      "100%|██████████| 423/423 [00:00<00:00, 46977.27it/s]\n",
      "100%|██████████| 1267/1267 [00:01<00:00, 721.97it/s]\n",
      "100%|██████████| 423/423 [00:00<00:00, 687.64it/s]\n"
     ]
    }
   ],
   "source": [
    "X_train_pre_clean = pre_clean(X_train)\n",
    "\n",
    "X_test_pre_clean = pre_clean(X_test)\n",
    "\n",
    "X_train_clean = clean(X_train_pre_clean)\n",
    "\n",
    "X_test_clean = clean(X_test_pre_clean)"
   ]
  },
  {
   "cell_type": "markdown",
   "id": "eb0066cf",
   "metadata": {},
   "source": [
    "### *Checking new statistics about the words, after the \"cleaning\"*"
   ]
  },
  {
   "cell_type": "code",
   "execution_count": 97,
   "id": "eff1886b",
   "metadata": {},
   "outputs": [],
   "source": [
    "#Creating new X_train to check word statistics of the \"cleaned\" comments \n",
    "X_train_clean2 = pd.DataFrame(X_train_clean)"
   ]
  },
  {
   "cell_type": "code",
   "execution_count": 98,
   "id": "2bd4a221",
   "metadata": {},
   "outputs": [],
   "source": [
    "X_train_clean2 = X_train_clean2.set_axis(['Sum'], axis=1, inplace=False)"
   ]
  },
  {
   "cell_type": "code",
   "execution_count": 99,
   "id": "0729acb3",
   "metadata": {},
   "outputs": [
    {
     "data": {
      "text/html": [
       "<div>\n",
       "<style scoped>\n",
       "    .dataframe tbody tr th:only-of-type {\n",
       "        vertical-align: middle;\n",
       "    }\n",
       "\n",
       "    .dataframe tbody tr th {\n",
       "        vertical-align: top;\n",
       "    }\n",
       "\n",
       "    .dataframe thead th {\n",
       "        text-align: right;\n",
       "    }\n",
       "</style>\n",
       "<table border=\"1\" class=\"dataframe\">\n",
       "  <thead>\n",
       "    <tr style=\"text-align: right;\">\n",
       "      <th></th>\n",
       "      <th>Sum</th>\n",
       "      <th>word_count</th>\n",
       "    </tr>\n",
       "  </thead>\n",
       "  <tbody>\n",
       "    <tr>\n",
       "      <th>0</th>\n",
       "      <td>student storm execut yunexecut branch gvmt esc...</td>\n",
       "      <td>102</td>\n",
       "    </tr>\n",
       "    <tr>\n",
       "      <th>1</th>\n",
       "      <td>mckinney releas retun unt state programm steal...</td>\n",
       "      <td>91</td>\n",
       "    </tr>\n",
       "    <tr>\n",
       "      <th>2</th>\n",
       "      <td>could final see thaw relat north korea ukto sh...</td>\n",
       "      <td>131</td>\n",
       "    </tr>\n",
       "    <tr>\n",
       "      <th>3</th>\n",
       "      <td>child adult hack death kitchen cleaver china k...</td>\n",
       "      <td>101</td>\n",
       "    </tr>\n",
       "    <tr>\n",
       "      <th>4</th>\n",
       "      <td>usconsul melbounha warn citizen terrorist atta...</td>\n",
       "      <td>143</td>\n",
       "    </tr>\n",
       "  </tbody>\n",
       "</table>\n",
       "</div>"
      ],
      "text/plain": [
       "                                                 Sum  word_count\n",
       "0  student storm execut yunexecut branch gvmt esc...         102\n",
       "1  mckinney releas retun unt state programm steal...          91\n",
       "2  could final see thaw relat north korea ukto sh...         131\n",
       "3  child adult hack death kitchen cleaver china k...         101\n",
       "4  usconsul melbounha warn citizen terrorist atta...         143"
      ]
     },
     "execution_count": 99,
     "metadata": {},
     "output_type": "execute_result"
    }
   ],
   "source": [
    "#Create Word Count column with the word counts of each day\n",
    "X_train_clean2['word_count']  = X_train_clean2['Sum'].apply(lambda x: len(str(x).split(\" \")))\n",
    "X_train_clean2[['Sum','word_count']].head()"
   ]
  },
  {
   "cell_type": "code",
   "execution_count": 100,
   "id": "487d2546",
   "metadata": {},
   "outputs": [
    {
     "data": {
      "text/plain": [
       "count    1267.000000\n",
       "mean      123.880032\n",
       "std        25.071899\n",
       "min        58.000000\n",
       "25%       106.000000\n",
       "50%       123.000000\n",
       "75%       143.000000\n",
       "max       213.000000\n",
       "Name: word_count, dtype: float64"
      ]
     },
     "execution_count": 100,
     "metadata": {},
     "output_type": "execute_result"
    }
   ],
   "source": [
    "X_train_clean2.word_count.describe()"
   ]
  },
  {
   "cell_type": "code",
   "execution_count": 103,
   "id": "a313b789",
   "metadata": {},
   "outputs": [
    {
     "data": {
      "text/plain": [
       "say       1024\n",
       "year       796\n",
       "kill       729\n",
       "world      695\n",
       "new        687\n",
       "          ... \n",
       "valor        1\n",
       "in           1\n",
       "abram        1\n",
       "snund        1\n",
       "abolit       1\n",
       "Length: 14899, dtype: int64"
      ]
     },
     "execution_count": 103,
     "metadata": {},
     "output_type": "execute_result"
    }
   ],
   "source": [
    "all_words = ' '.join(X_train_clean2['Sum']).split()  #join all words into a single variable\n",
    "\n",
    "len(all_words)\n",
    "\n",
    "freq = pd.Series(all_words).value_counts() #transform list of words into pandas series to count the freq of each word\n",
    "freq"
   ]
  },
  {
   "cell_type": "code",
   "execution_count": 104,
   "id": "ae5f0922",
   "metadata": {},
   "outputs": [
    {
     "data": {
      "image/png": "[encoded data removed]",
      "text/plain": [
       "<Figure size 432x288 with 1 Axes>"
      ]
     },
     "metadata": {
      "needs_background": "light"
     },
     "output_type": "display_data"
    }
   ],
   "source": [
    "x_labels = freq.index[0:15]\n",
    "values = freq[:15]\n",
    "plt.bar(x_labels, values, align='center', alpha=0.5)\n",
    "plt.ylabel('Frequencies')\n",
    "plt.title('Words\\' Frequency')\n",
    "plt.xticks(rotation=45)\n",
    "plt.show()"
   ]
  },
  {
   "cell_type": "markdown",
   "id": "d4a6e5ca",
   "metadata": {},
   "source": [
    "### *Feature Engeneering - Word Embeddings*"
   ]
  },
  {
   "cell_type": "code",
   "execution_count": 105,
   "id": "b9e8fb37",
   "metadata": {},
   "outputs": [
    {
     "name": "stdout",
     "output_type": "stream",
     "text": [
      "['fasttext-wiki-news-subwords-300', 'conceptnet-numberbatch-17-06-300', 'word2vec-ruscorpora-300', 'word2vec-google-news-300', 'glove-wiki-gigaword-50', 'glove-wiki-gigaword-100', 'glove-wiki-gigaword-200', 'glove-wiki-gigaword-300', 'glove-twitter-25', 'glove-twitter-50', 'glove-twitter-100', 'glove-twitter-200', '__testing_word2vec-matrix-synopsis']\n"
     ]
    }
   ],
   "source": [
    "#model options\n",
    "print(list(gensim.downloader.info()['models'].keys()))\n"
   ]
  },
  {
   "cell_type": "code",
   "execution_count": 131,
   "id": "0739bace",
   "metadata": {},
   "outputs": [
    {
     "name": "stderr",
     "output_type": "stream",
     "text": [
      "C:\\Users\\lotar\\AppData\\Local\\Temp/ipykernel_3484/2709234932.py:10: DeprecationWarning: Call to deprecated `word_vec` (Use get_vector instead).\n",
      "  doc_vectors.append(w2v.word_vec(word))\n"
     ]
    }
   ],
   "source": [
    "#The most suitable gensim package to download would be 'word2vec-google-news-300', \n",
    "#although, due to lack of computing power, the 'glove-twitter-25' was chosen, due to being lighter. \n",
    "w2v = gensim.downloader.load('glove-twitter-25')\n",
    "\n",
    "def corpus2vec(corpus):\n",
    "    corpus_vec = []\n",
    "    for document in corpus:\n",
    "        #get word vectors for each document\n",
    "        doc_vectors = []\n",
    "        for word in document.split():\n",
    "            if word in w2v.index_to_key:\n",
    "                doc_vectors.append(w2v.word_vec(word))         \n",
    "        corpus_vec.append(doc_vectors)\n",
    "    return corpus_vec\n",
    "\n",
    "X_vec = corpus2vec(X_train_clean)\n",
    "\n",
    "X_test_vec = corpus2vec(X_test_clean)"
   ]
  },
  {
   "cell_type": "code",
   "execution_count": 170,
   "id": "e63b77c8",
   "metadata": {},
   "outputs": [
    {
     "data": {
      "text/plain": [
       "1267"
      ]
     },
     "execution_count": 170,
     "metadata": {},
     "output_type": "execute_result"
    }
   ],
   "source": [
    "len(X_train_clean)"
   ]
  },
  {
   "cell_type": "markdown",
   "id": "a4fc2c08",
   "metadata": {},
   "source": [
    "### *Pad Sequences*"
   ]
  },
  {
   "cell_type": "code",
   "execution_count": 171,
   "id": "baff660e",
   "metadata": {},
   "outputs": [
    {
     "data": {
      "text/plain": [
       "188"
      ]
     },
     "execution_count": 171,
     "metadata": {},
     "output_type": "execute_result"
    }
   ],
   "source": [
    "train_len = []\n",
    "for i in X_vec:\n",
    "    train_len.append(len(i))\n",
    "max(train_len)\n"
   ]
  },
  {
   "cell_type": "code",
   "execution_count": 172,
   "id": "99e5378c",
   "metadata": {},
   "outputs": [],
   "source": [
    "y_train = y_train.to_numpy()"
   ]
  },
  {
   "cell_type": "code",
   "execution_count": 173,
   "id": "05928308",
   "metadata": {},
   "outputs": [],
   "source": [
    "y_test = y_test.to_numpy()"
   ]
  },
  {
   "cell_type": "code",
   "execution_count": 174,
   "id": "f41f2947",
   "metadata": {},
   "outputs": [],
   "source": [
    "X_pad = pad_sequences(maxlen=188,sequences=X_vec, padding=\"post\", dtype='float64')\n",
    "\n",
    "X5 = tf.convert_to_tensor(X_pad, dtype='float32')\n",
    "\n",
    "y5 = tf.one_hot(y_train, depth=2)"
   ]
  },
  {
   "cell_type": "markdown",
   "id": "c31c600f",
   "metadata": {},
   "source": [
    "## LSTM - Pad Sequences"
   ]
  },
  {
   "cell_type": "code",
   "execution_count": 175,
   "id": "c2d530fa",
   "metadata": {},
   "outputs": [],
   "source": [
    "tf.random.set_seed(239)\n"
   ]
  },
  {
   "cell_type": "markdown",
   "id": "a7cf18e6",
   "metadata": {},
   "source": [
    "##### *Train Set*"
   ]
  },
  {
   "cell_type": "code",
   "execution_count": 181,
   "id": "040fe3da",
   "metadata": {
    "scrolled": true
   },
   "outputs": [
    {
     "name": "stdout",
     "output_type": "stream",
     "text": [
      "Model: \"model_4\"\n",
      "_________________________________________________________________\n",
      " Layer (type)                Output Shape              Param #   \n",
      "=================================================================\n",
      " input_5 (InputLayer)        [(None, 188, 25)]         0         \n",
      "                                                                 \n",
      " masking_4 (Masking)         (None, 188, 25)           0         \n",
      "                                                                 \n",
      " bidirectional_4 (Bidirectio  (None, 8)                960       \n",
      " nal)                                                            \n",
      "                                                                 \n",
      " dense_4 (Dense)             (None, 2)                 18        \n",
      "                                                                 \n",
      "=================================================================\n",
      "Total params: 978\n",
      "Trainable params: 978\n",
      "Non-trainable params: 0\n",
      "_________________________________________________________________\n"
     ]
    }
   ],
   "source": [
    "'''model input in the shape(number of words per doc, word embedding size)'''\n",
    "input_ = Input(shape=(188,25))\n",
    "\n",
    "'''mask layer to avoid model from considering padding vectors'''\n",
    "mask_layer = Masking(mask_value=0)\n",
    "mask = mask_layer(input_)\n",
    "\n",
    "'''BiLSTM layer'''\n",
    "\n",
    "lstm = Bidirectional(LSTM(units=4))(mask)\n",
    "\n",
    "'''activation layer'''\n",
    "act = Dense(2, activation='sigmoid')(lstm)\n",
    "\n",
    "'''model input and output'''\n",
    "model = Model(input_, act)\n",
    "\n",
    "'''model loss function and evaluation metrics'''\n",
    "model.compile(optimizer=\"adam\", loss=\"binary_crossentropy\", metrics=[\"binary_accuracy\"])\n",
    "model.summary()"
   ]
  },
  {
   "cell_type": "code",
   "execution_count": 182,
   "id": "1a389dee",
   "metadata": {},
   "outputs": [
    {
     "name": "stdout",
     "output_type": "stream",
     "text": [
      "Epoch 1/20\n",
      "64/64 [==============================] - 117s 2s/step - loss: 0.7053 - binary_accuracy: 0.4822 - val_loss: 0.7027 - val_binary_accuracy: 0.4921\n",
      "Epoch 2/20\n",
      "64/64 [==============================] - 122s 2s/step - loss: 0.6944 - binary_accuracy: 0.5114 - val_loss: 0.6975 - val_binary_accuracy: 0.5000\n",
      "Epoch 3/20\n",
      "64/64 [==============================] - 122s 2s/step - loss: 0.6915 - binary_accuracy: 0.5326 - val_loss: 0.6966 - val_binary_accuracy: 0.5138\n",
      "Epoch 4/20\n",
      "64/64 [==============================] - 124s 2s/step - loss: 0.6884 - binary_accuracy: 0.5410 - val_loss: 0.6952 - val_binary_accuracy: 0.5098\n",
      "Epoch 5/20\n",
      "64/64 [==============================] - 121s 2s/step - loss: 0.6861 - binary_accuracy: 0.5479 - val_loss: 0.6956 - val_binary_accuracy: 0.5157\n",
      "Epoch 6/20\n",
      "64/64 [==============================] - 121s 2s/step - loss: 0.6840 - binary_accuracy: 0.5573 - val_loss: 0.6959 - val_binary_accuracy: 0.5236\n",
      "Epoch 7/20\n",
      "64/64 [==============================] - 123s 2s/step - loss: 0.6815 - binary_accuracy: 0.5612 - val_loss: 0.6965 - val_binary_accuracy: 0.5236\n",
      "Epoch 8/20\n",
      "64/64 [==============================] - 123s 2s/step - loss: 0.6795 - binary_accuracy: 0.5765 - val_loss: 0.6972 - val_binary_accuracy: 0.5236\n",
      "Epoch 9/20\n",
      "64/64 [==============================] - 123s 2s/step - loss: 0.6762 - binary_accuracy: 0.5800 - val_loss: 0.6983 - val_binary_accuracy: 0.5236\n",
      "Epoch 10/20\n",
      "64/64 [==============================] - 118s 2s/step - loss: 0.6736 - binary_accuracy: 0.5918 - val_loss: 0.6991 - val_binary_accuracy: 0.5236\n",
      "Epoch 11/20\n",
      "64/64 [==============================] - 123s 2s/step - loss: 0.6711 - binary_accuracy: 0.5992 - val_loss: 0.6998 - val_binary_accuracy: 0.5197\n",
      "Epoch 12/20\n",
      "64/64 [==============================] - 117s 2s/step - loss: 0.6673 - binary_accuracy: 0.6081 - val_loss: 0.7011 - val_binary_accuracy: 0.5197\n",
      "Epoch 13/20\n",
      "64/64 [==============================] - 120s 2s/step - loss: 0.6635 - binary_accuracy: 0.6115 - val_loss: 0.7028 - val_binary_accuracy: 0.5256\n",
      "Epoch 14/20\n",
      "64/64 [==============================] - 122s 2s/step - loss: 0.6599 - binary_accuracy: 0.6229 - val_loss: 0.7047 - val_binary_accuracy: 0.5197\n",
      "Epoch 15/20\n",
      "64/64 [==============================] - 123s 2s/step - loss: 0.6550 - binary_accuracy: 0.6352 - val_loss: 0.7053 - val_binary_accuracy: 0.5315\n",
      "Epoch 16/20\n",
      "64/64 [==============================] - 123s 2s/step - loss: 0.6497 - binary_accuracy: 0.6422 - val_loss: 0.7076 - val_binary_accuracy: 0.5276\n",
      "Epoch 17/20\n",
      "64/64 [==============================] - 123s 2s/step - loss: 0.6450 - binary_accuracy: 0.6476 - val_loss: 0.7105 - val_binary_accuracy: 0.5157\n",
      "Epoch 18/20\n",
      "64/64 [==============================] - 122s 2s/step - loss: 0.6394 - binary_accuracy: 0.6560 - val_loss: 0.7127 - val_binary_accuracy: 0.5138\n",
      "Epoch 19/20\n",
      "64/64 [==============================] - 123s 2s/step - loss: 0.6336 - binary_accuracy: 0.6649 - val_loss: 0.7142 - val_binary_accuracy: 0.5098\n",
      "Epoch 20/20\n",
      "64/64 [==============================] - 122s 2s/step - loss: 0.6271 - binary_accuracy: 0.6668 - val_loss: 0.7176 - val_binary_accuracy: 0.4980\n"
     ]
    }
   ],
   "source": [
    "history = model.fit(X5, y5, batch_size=16, epochs=20, verbose=1, validation_split=0.20)"
   ]
  },
  {
   "cell_type": "code",
   "execution_count": 183,
   "id": "bdb4d855",
   "metadata": {},
   "outputs": [
    {
     "data": {
      "image/png": "[encoded data removed]",
      "text/plain": [
       "<Figure size 720x432 with 1 Axes>"
      ]
     },
     "metadata": {
      "needs_background": "light"
     },
     "output_type": "display_data"
    }
   ],
   "source": [
    "plt.figure(figsize =(10, 6))\n",
    "plt.plot(history.history['binary_accuracy'])\n",
    "plt.plot(history.history['val_binary_accuracy'])\n",
    "plt.title('Model Accuracy')\n",
    "plt.ylabel('Accuracy')\n",
    "plt.xlabel('Epoch')\n",
    "plt.legend(['train', 'val'], loc='upper left')\n",
    "plt.show()"
   ]
  },
  {
   "cell_type": "markdown",
   "id": "6310ddfa",
   "metadata": {},
   "source": [
    "##### *Test Set*"
   ]
  },
  {
   "cell_type": "code",
   "execution_count": 184,
   "id": "d26681fd",
   "metadata": {},
   "outputs": [],
   "source": [
    "X_test_pad = pad_sequences(maxlen=188,sequences=X_test_vec, padding=\"post\", dtype='float64')"
   ]
  },
  {
   "cell_type": "code",
   "execution_count": 185,
   "id": "7b5111b1",
   "metadata": {},
   "outputs": [],
   "source": [
    "X_test5 = tf.convert_to_tensor(X_test_pad, dtype='float32')"
   ]
  },
  {
   "cell_type": "code",
   "execution_count": 186,
   "id": "42022480",
   "metadata": {},
   "outputs": [],
   "source": [
    "pred_y5 = model.predict(X_test5)"
   ]
  },
  {
   "cell_type": "code",
   "execution_count": 187,
   "id": "0daef5d4",
   "metadata": {},
   "outputs": [],
   "source": [
    "y_pred5 = []\n",
    "for doc in pred_y5:\n",
    "    y_pred5.append(np.argmax(doc, axis=None, out=None))"
   ]
  },
  {
   "cell_type": "code",
   "execution_count": 190,
   "id": "fed6da80",
   "metadata": {},
   "outputs": [
    {
     "name": "stdout",
     "output_type": "stream",
     "text": [
      "              precision    recall  f1-score   support\n",
      "\n",
      "           0       0.45      0.43      0.44       192\n",
      "           1       0.54      0.57      0.56       231\n",
      "\n",
      "    accuracy                           0.50       423\n",
      "   macro avg       0.50      0.50      0.50       423\n",
      "weighted avg       0.50      0.50      0.50       423\n",
      "\n"
     ]
    }
   ],
   "source": [
    "print(classification_report(y_test, y_pred5))"
   ]
  },
  {
   "cell_type": "markdown",
   "id": "20fde6ea",
   "metadata": {},
   "source": [
    "### *Feature Engeneering - Word Embeddings pt2*"
   ]
  },
  {
   "cell_type": "code",
   "execution_count": 192,
   "id": "f318cb3e",
   "metadata": {},
   "outputs": [],
   "source": [
    "def get_w2v(corpus):\n",
    "    doc_vec = []\n",
    "    for document in corpus:\n",
    "        sentence_vector = 0\n",
    "        count = 0\n",
    "        for word in document.split():\n",
    "            if word in w2v.index_to_key:\n",
    "                count+=1\n",
    "                sentence_vector = np.add(sentence_vector, w2v.word_vec(word))\n",
    "        avg_vector=sentence_vector/count\n",
    "        doc_vec.append(sentence_vector)\n",
    "    return doc_vec"
   ]
  },
  {
   "cell_type": "code",
   "execution_count": 193,
   "id": "6fadb6cc",
   "metadata": {},
   "outputs": [
    {
     "name": "stderr",
     "output_type": "stream",
     "text": [
      "C:\\Users\\lotar\\AppData\\Local\\Temp/ipykernel_3484/1943873392.py:9: DeprecationWarning: Call to deprecated `word_vec` (Use get_vector instead).\n",
      "  sentence_vector = np.add(sentence_vector, w2v.word_vec(word))\n"
     ]
    },
    {
     "data": {
      "text/plain": [
       "1267"
      ]
     },
     "execution_count": 193,
     "metadata": {},
     "output_type": "execute_result"
    }
   ],
   "source": [
    "X_vec = get_w2v(X_train_clean)\n",
    "len(X_vec)"
   ]
  },
  {
   "cell_type": "code",
   "execution_count": 194,
   "id": "8951554f",
   "metadata": {},
   "outputs": [
    {
     "name": "stderr",
     "output_type": "stream",
     "text": [
      "C:\\Users\\lotar\\AppData\\Local\\Temp/ipykernel_3484/1943873392.py:9: DeprecationWarning: Call to deprecated `word_vec` (Use get_vector instead).\n",
      "  sentence_vector = np.add(sentence_vector, w2v.word_vec(word))\n"
     ]
    },
    {
     "data": {
      "text/plain": [
       "423"
      ]
     },
     "execution_count": 194,
     "metadata": {},
     "output_type": "execute_result"
    }
   ],
   "source": [
    "X_test_vec = get_w2v(X_test_clean)\n",
    "len(X_test_vec)"
   ]
  },
  {
   "cell_type": "markdown",
   "id": "325eb61a",
   "metadata": {},
   "source": [
    "# Logistic Regression - Word Embeddings"
   ]
  },
  {
   "cell_type": "markdown",
   "id": "e4bc0853",
   "metadata": {},
   "source": [
    "##### *Train Set*"
   ]
  },
  {
   "cell_type": "code",
   "execution_count": 196,
   "id": "86e18a3b",
   "metadata": {},
   "outputs": [],
   "source": [
    "lr = LogisticRegression(random_state=4)"
   ]
  },
  {
   "cell_type": "code",
   "execution_count": 197,
   "id": "f5fe8ae6",
   "metadata": {},
   "outputs": [
    {
     "name": "stderr",
     "output_type": "stream",
     "text": [
      "C:\\Users\\lotar\\anaconda3\\lib\\site-packages\\sklearn\\linear_model\\_logistic.py:814: ConvergenceWarning: lbfgs failed to converge (status=1):\n",
      "STOP: TOTAL NO. of ITERATIONS REACHED LIMIT.\n",
      "\n",
      "Increase the number of iterations (max_iter) or scale the data as shown in:\n",
      "    https://scikit-learn.org/stable/modules/preprocessing.html\n",
      "Please also refer to the documentation for alternative solver options:\n",
      "    https://scikit-learn.org/stable/modules/linear_model.html#logistic-regression\n",
      "  n_iter_i = _check_optimize_result(\n"
     ]
    },
    {
     "data": {
      "text/plain": [
       "LogisticRegression(random_state=4)"
      ]
     },
     "execution_count": 197,
     "metadata": {},
     "output_type": "execute_result"
    }
   ],
   "source": [
    "lr.fit(X_vec,y_train)"
   ]
  },
  {
   "cell_type": "markdown",
   "id": "ff5a934a",
   "metadata": {},
   "source": [
    "##### *Test Set*"
   ]
  },
  {
   "cell_type": "code",
   "execution_count": 199,
   "id": "64feb96b",
   "metadata": {},
   "outputs": [],
   "source": [
    "lr_pred = lr.predict(X_test_vec)"
   ]
  },
  {
   "cell_type": "code",
   "execution_count": 200,
   "id": "6c63b567",
   "metadata": {},
   "outputs": [
    {
     "name": "stdout",
     "output_type": "stream",
     "text": [
      "              precision    recall  f1-score   support\n",
      "\n",
      "           0       0.45      0.37      0.41       192\n",
      "           1       0.54      0.62      0.58       231\n",
      "\n",
      "    accuracy                           0.51       423\n",
      "   macro avg       0.50      0.50      0.49       423\n",
      "weighted avg       0.50      0.51      0.50       423\n",
      "\n"
     ]
    }
   ],
   "source": [
    "print(classification_report(y_test, lr_pred))"
   ]
  },
  {
   "cell_type": "markdown",
   "id": "36c539c0",
   "metadata": {},
   "source": [
    "# Multilayer Perceptron - ANN  - Word Embeddings"
   ]
  },
  {
   "cell_type": "markdown",
   "id": "376ef9a6",
   "metadata": {},
   "source": [
    "##### *Train Set*"
   ]
  },
  {
   "cell_type": "code",
   "execution_count": 201,
   "id": "4172921c",
   "metadata": {},
   "outputs": [],
   "source": [
    "mlp = MLPClassifier(solver='adam', hidden_layer_sizes=(2,2), activation='logistic', random_state=1)"
   ]
  },
  {
   "cell_type": "code",
   "execution_count": 202,
   "id": "8a392747",
   "metadata": {},
   "outputs": [
    {
     "data": {
      "text/plain": [
       "MLPClassifier(activation='logistic', hidden_layer_sizes=(2, 2), random_state=1)"
      ]
     },
     "execution_count": 202,
     "metadata": {},
     "output_type": "execute_result"
    }
   ],
   "source": [
    "mlp.fit(X_vec,y_train)"
   ]
  },
  {
   "cell_type": "markdown",
   "id": "311dc92e",
   "metadata": {},
   "source": [
    "##### *Test Set*"
   ]
  },
  {
   "cell_type": "code",
   "execution_count": 203,
   "id": "38ace381",
   "metadata": {},
   "outputs": [],
   "source": [
    "mlp_pred = mlp.predict(X_test_vec)"
   ]
  },
  {
   "cell_type": "code",
   "execution_count": 204,
   "id": "0f534401",
   "metadata": {},
   "outputs": [
    {
     "name": "stdout",
     "output_type": "stream",
     "text": [
      "              precision    recall  f1-score   support\n",
      "\n",
      "           0       0.00      0.00      0.00       192\n",
      "           1       0.55      1.00      0.71       231\n",
      "\n",
      "    accuracy                           0.55       423\n",
      "   macro avg       0.27      0.50      0.35       423\n",
      "weighted avg       0.30      0.55      0.39       423\n",
      "\n"
     ]
    },
    {
     "name": "stderr",
     "output_type": "stream",
     "text": [
      "C:\\Users\\lotar\\anaconda3\\lib\\site-packages\\sklearn\\metrics\\_classification.py:1318: UndefinedMetricWarning: Precision and F-score are ill-defined and being set to 0.0 in labels with no predicted samples. Use `zero_division` parameter to control this behavior.\n",
      "  _warn_prf(average, modifier, msg_start, len(result))\n",
      "C:\\Users\\lotar\\anaconda3\\lib\\site-packages\\sklearn\\metrics\\_classification.py:1318: UndefinedMetricWarning: Precision and F-score are ill-defined and being set to 0.0 in labels with no predicted samples. Use `zero_division` parameter to control this behavior.\n",
      "  _warn_prf(average, modifier, msg_start, len(result))\n",
      "C:\\Users\\lotar\\anaconda3\\lib\\site-packages\\sklearn\\metrics\\_classification.py:1318: UndefinedMetricWarning: Precision and F-score are ill-defined and being set to 0.0 in labels with no predicted samples. Use `zero_division` parameter to control this behavior.\n",
      "  _warn_prf(average, modifier, msg_start, len(result))\n"
     ]
    }
   ],
   "source": [
    "print(classification_report(y_test, mlp_pred))"
   ]
  }
 ],
 "metadata": {
  "colab": {
   "collapsed_sections": [
    "95497283",
    "d87c0443"
   ],
   "name": "Experiments_013_v3_all_headlines.ipynb",
   "provenance": []
  },
  "kernelspec": {
   "display_name": "Python 3 (ipykernel)",
   "language": "python",
   "name": "python3"
  },
  "language_info": {
   "codemirror_mode": {
    "name": "ipython",
    "version": 3
   },
   "file_extension": ".py",
   "mimetype": "text/x-python",
   "name": "python",
   "nbconvert_exporter": "python",
   "pygments_lexer": "ipython3",
   "version": "3.9.12"
  }
 },
 "nbformat": 4,
 "nbformat_minor": 5
}
